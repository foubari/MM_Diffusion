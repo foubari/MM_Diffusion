{
 "cells": [
  {
   "cell_type": "markdown",
   "metadata": {},
   "source": [
    "# Miscellaneous scripts to examinate diffusion models"
   ]
  },
  {
   "cell_type": "markdown",
   "metadata": {},
   "source": [
    "## Imports"
   ]
  },
  {
   "cell_type": "code",
   "execution_count": 1,
   "metadata": {},
   "outputs": [],
   "source": [
    "import os\n",
    "import torch\n",
    "import numpy as np\n",
    "import pickle\n",
    "import argparse\n",
    "import torchvision.utils as vutils\n",
    "from diffusion_utils.utils import add_parent_path\n",
    "import matplotlib.pyplot as plt\n",
    "from matplotlib.colors import ListedColormap\n",
    "\n",
    "# Data\n",
    "add_parent_path(level=1)\n",
    "from datasets.data import get_data, get_data_id, add_data_args, get_plot_transform\n",
    "\n",
    "# Model\n",
    "from model import get_model, get_model_id, add_model_args\n",
    "from diffusion_utils.base import DataParallelDistribution\n",
    "from diffusion_utils.diffusion_multinomial import index_to_log_onehot, log_onehot_to_index"
   ]
  },
  {
   "cell_type": "markdown",
   "metadata": {},
   "source": [
    "## Setup"
   ]
  },
  {
   "cell_type": "markdown",
   "metadata": {},
   "source": [
    "###  Model path and args"
   ]
  },
  {
   "cell_type": "code",
   "execution_count": null,
   "metadata": {},
   "outputs": [],
   "source": [
    "###########\n",
    "## Setup ##\n",
    "###########\n",
    "\n",
    "seed = 0\n",
    "model_path = '/export/fhome2/denis/bct_generation_data_and_results/multinomial_diffusion/log/ct_chosen_coronal/partial_diffusion/multistep/test_implementation'\n",
    "\n",
    "path_args = '{}/args.pickle'.format(model_path)\n",
    "path_check = '{}/check/checkpoint1.pt'.format(model_path)\n",
    "\n",
    "torch.manual_seed(seed)\n",
    "\n",
    "###############\n",
    "## Load args ##\n",
    "###############\n",
    "\n",
    "with open(path_args, 'rb') as f:\n",
    "    args = pickle.load(f)\n",
    "\n",
    "args.loss_weighted = False\n",
    "args.conditional = False\n",
    "args.partial = True"
   ]
  },
  {
   "cell_type": "markdown",
   "metadata": {},
   "source": [
    "### Get data and model"
   ]
  },
  {
   "cell_type": "code",
   "execution_count": 3,
   "metadata": {},
   "outputs": [
    {
     "name": "stdout",
     "output_type": "stream",
     "text": [
      "Dataset loaded from /export/fhome2/denis/bct_generation_data_and_results/multinomial_diffusion/data/ct_chosen_coronal/data.pkl\n",
      "Dataset loaded from /export/fhome2/denis/bct_generation_data_and_results/multinomial_diffusion/data/ct_chosen_coronal/data.pkl\n"
     ]
    }
   ],
   "source": [
    "##################\n",
    "## Specify data ##\n",
    "##################\n",
    "\n",
    "train_loader, test_loader, data_shape, num_classes = get_data(args)\n",
    "minibatch_data = None\n",
    "for minibatch_data in train_loader:\n",
    "    break\n",
    "assert minibatch_data is not None"
   ]
  },
  {
   "cell_type": "code",
   "execution_count": 4,
   "metadata": {},
   "outputs": [
    {
     "name": "stdout",
     "output_type": "stream",
     "text": [
      "Data shape: (1, 512, 512)\n"
     ]
    },
    {
     "name": "stderr",
     "output_type": "stream",
     "text": [
      "/tmp/ipykernel_31036/3618621467.py:10: FutureWarning: You are using `torch.load` with `weights_only=False` (the current default value), which uses the default pickle module implicitly. It is possible to construct malicious pickle data which will execute arbitrary code during unpickling (See https://github.com/pytorch/pytorch/blob/main/SECURITY.md#untrusted-models for more details). In a future release, the default value for `weights_only` will be flipped to `True`. This limits the functions that could be executed during unpickling. Arbitrary objects will no longer be allowed to be loaded via this mode unless they are explicitly allowlisted by the user via `torch.serialization.add_safe_globals`. We recommend you start setting `weights_only=True` for any use case where you don't have full control of the loaded file. Please open an issue on GitHub for any issues related to this experimental feature.\n",
      "  checkpoint = torch.load(path_check)\n"
     ]
    },
    {
     "name": "stdout",
     "output_type": "stream",
     "text": [
      "Loaded weights for model at 250/1000 epochs\n"
     ]
    }
   ],
   "source": [
    "###################\n",
    "## Specify model ##\n",
    "###################\n",
    "\n",
    "model = get_model(args, data_shape=data_shape)\n",
    "if args.parallel == 'dp':\n",
    "    model = DataParallelDistribution(model)\n",
    "\n",
    "if torch.cuda.is_available():\n",
    "    checkpoint = torch.load(path_check)\n",
    "else:\n",
    "    checkpoint = torch.load(path_check, map_location='cpu')\n",
    "model.load_state_dict(checkpoint['model'])\n",
    "\n",
    "if torch.cuda.is_available():\n",
    "    model = model.cuda()\n",
    "\n",
    "print('Loaded weights for model at {}/{} epochs'.format(checkpoint['current_epoch'], args.epochs))\n",
    "device = model.log_alpha.device"
   ]
  },
  {
   "cell_type": "markdown",
   "metadata": {},
   "source": [
    "### Plotting"
   ]
  },
  {
   "cell_type": "code",
   "execution_count": 8,
   "metadata": {},
   "outputs": [],
   "source": [
    "K = model.num_classes\n",
    "gray_shades = [(1/(K-1) * k, 1/(K-1) * k, 1/(K-1) * k) for k in range(K)]\n",
    "gcmap = ListedColormap(gray_shades)\n",
    "def custom_plot(img_list, title=None, show=True, save=False):\n",
    "    n = len(img_list)\n",
    "    fig, axs = plt.subplots(1, n, figsize = (n * 4, 4 + 1))\n",
    "    for i, img in enumerate(img_list):\n",
    "        axs[i].imshow(img.cpu().numpy(), cmap = gcmap, vmin=0, vmax=K-1)\n",
    "        axs[i].axis('off')\n",
    "    if title is not None:\n",
    "        fig.suptitle(title)\n",
    "    plt.show()"
   ]
  },
  {
   "cell_type": "markdown",
   "metadata": {},
   "source": [
    "## Conditional Sampling"
   ]
  },
  {
   "cell_type": "code",
   "execution_count": 5,
   "metadata": {},
   "outputs": [],
   "source": [
    "num_classes = model.num_classes"
   ]
  },
  {
   "cell_type": "code",
   "execution_count": null,
   "metadata": {},
   "outputs": [
    {
     "ename": "ValueError",
     "evalue": "too many values to unpack (expected 2)",
     "output_type": "error",
     "traceback": [
      "\u001b[0;31m---------------------------------------------------------------------------\u001b[0m",
      "\u001b[0;31mValueError\u001b[0m                                Traceback (most recent call last)",
      "Cell \u001b[0;32mIn[25], line 6\u001b[0m\n\u001b[1;32m      4\u001b[0m xs, ys \u001b[38;5;241m=\u001b[39m [], []\n\u001b[1;32m      5\u001b[0m c \u001b[38;5;241m=\u001b[39m \u001b[38;5;241m0\u001b[39m\n\u001b[0;32m----> 6\u001b[0m \u001b[38;5;28;01mfor\u001b[39;00m x,y \u001b[38;5;129;01min\u001b[39;00m test_loader:\n\u001b[1;32m      7\u001b[0m     x \u001b[38;5;241m=\u001b[39m x\u001b[38;5;241m.\u001b[39mto(device)\n\u001b[1;32m      8\u001b[0m     y \u001b[38;5;241m=\u001b[39m y\u001b[38;5;241m.\u001b[39mto(device)\n",
      "\u001b[0;31mValueError\u001b[0m: too many values to unpack (expected 2)"
     ]
    }
   ],
   "source": [
    "# Get a batched tensor of num_samples of the test_loader\n",
    "\n",
    "num_samples = 16\n",
    "xs, ys = [], []\n",
    "c = 0\n",
    "for x,y in test_loader:\n",
    "    x = x.to(device)\n",
    "    y = y.to(device)\n",
    "    b = len(x) #which is also == len(y)\n",
    "    d = min(b, num_samples - c)\n",
    "    c += d\n",
    "    xs.append(x[:d])\n",
    "    ys.append(y[:d])\n",
    "    if c >= num_samples:\n",
    "        break\n",
    "x = torch.cat(xs, dim=0)\n",
    "y = torch.cat(ys, dim=0)"
   ]
  },
  {
   "cell_type": "code",
   "execution_count": 7,
   "metadata": {},
   "outputs": [
    {
     "name": "stdout",
     "output_type": "stream",
     "text": [
      "torch.Size([16, 512, 512]) torch.Size([16, 512, 512])\n"
     ]
    }
   ],
   "source": [
    "print(x.shape, y.shape)"
   ]
  },
  {
   "cell_type": "code",
   "execution_count": null,
   "metadata": {},
   "outputs": [
    {
     "name": "stdout",
     "output_type": "stream",
     "text": [
      "Sample timestep    0\r"
     ]
    }
   ],
   "source": [
    "#num_samples = 3\n",
    "#_, y = next(iter(test_loader)) #to be fixed in case batch_size < num_samples\n",
    "#y = y[:num_samples]\n",
    "with torch.no_grad():\n",
    "    samples = model.sample(num_samples, y.to(args.device)).cpu()"
   ]
  },
  {
   "cell_type": "code",
   "execution_count": 69,
   "metadata": {},
   "outputs": [
    {
     "ename": "NameError",
     "evalue": "name 'x' is not defined",
     "output_type": "error",
     "traceback": [
      "\u001b[0;31m---------------------------------------------------------------------------\u001b[0m",
      "\u001b[0;31mNameError\u001b[0m                                 Traceback (most recent call last)",
      "Cell \u001b[0;32mIn[69], line 6\u001b[0m\n\u001b[1;32m      3\u001b[0m gray_shades \u001b[38;5;241m=\u001b[39m [(\u001b[38;5;241m1\u001b[39m\u001b[38;5;241m/\u001b[39m(K\u001b[38;5;241m-\u001b[39m\u001b[38;5;241m1\u001b[39m) \u001b[38;5;241m*\u001b[39m k, \u001b[38;5;241m1\u001b[39m\u001b[38;5;241m/\u001b[39m(K\u001b[38;5;241m-\u001b[39m\u001b[38;5;241m1\u001b[39m) \u001b[38;5;241m*\u001b[39m k, \u001b[38;5;241m1\u001b[39m\u001b[38;5;241m/\u001b[39m(K\u001b[38;5;241m-\u001b[39m\u001b[38;5;241m1\u001b[39m) \u001b[38;5;241m*\u001b[39m k) \u001b[38;5;28;01mfor\u001b[39;00m k \u001b[38;5;129;01min\u001b[39;00m \u001b[38;5;28mrange\u001b[39m(K)]\n\u001b[1;32m      4\u001b[0m gcmap \u001b[38;5;241m=\u001b[39m ListedColormap(gray_shades)\n\u001b[0;32m----> 6\u001b[0m N \u001b[38;5;241m=\u001b[39m \u001b[38;5;28mlen\u001b[39m(\u001b[43mx\u001b[49m)\n\u001b[1;32m      7\u001b[0m fig, axs \u001b[38;5;241m=\u001b[39m plt\u001b[38;5;241m.\u001b[39msubplots(\u001b[38;5;241m2\u001b[39m, N, figsize \u001b[38;5;241m=\u001b[39m ((N) \u001b[38;5;241m*\u001b[39m \u001b[38;5;241m4\u001b[39m, \u001b[38;5;241m9\u001b[39m))\n\u001b[1;32m      8\u001b[0m \u001b[38;5;28;01mfor\u001b[39;00m i \u001b[38;5;129;01min\u001b[39;00m \u001b[38;5;28mrange\u001b[39m(N):\n",
      "\u001b[0;31mNameError\u001b[0m: name 'x' is not defined"
     ]
    }
   ],
   "source": [
    "#Custom grey-level colormap for plotting\n",
    "K = model.num_classes\n",
    "gray_shades = [(1/(K-1) * k, 1/(K-1) * k, 1/(K-1) * k) for k in range(K)]\n",
    "gcmap = ListedColormap(gray_shades)\n",
    "\n",
    "N = len(x)\n",
    "fig, axs = plt.subplots(2, N, figsize = ((N) * 4, 9))\n",
    "for i in range(N):\n",
    "    axs[0, i].imshow(samples[i][0].cpu().numpy(), cmap = gcmap, vmin=0, vmax=K-1)\n",
    "    axs[0, i].axis('off')\n",
    "    axs[0, i].set_title('Conditional Sample')\n",
    "\n",
    "    axs[1, i].imshow(x[i].cpu().numpy(), cmap = gcmap, vmin=0, vmax=K-1)\n",
    "    axs[1, i].axis('off')\n",
    "    axs[1, i].set_title('Original')\n",
    "\n",
    "plt.savefig('conditional_samples_test.png')"
   ]
  },
  {
   "cell_type": "markdown",
   "metadata": {},
   "source": [
    "## Sampling"
   ]
  },
  {
   "cell_type": "code",
   "execution_count": 16,
   "metadata": {},
   "outputs": [
    {
     "name": "stdout",
     "output_type": "stream",
     "text": [
      "Sample timestep    0\r"
     ]
    }
   ],
   "source": [
    "num_samples = 3\n",
    "with torch.no_grad():\n",
    "    u = model.sample(num_samples).cpu()"
   ]
  },
  {
   "cell_type": "code",
   "execution_count": 37,
   "metadata": {},
   "outputs": [
    {
     "data": {
      "text/plain": [
       "<matplotlib.image.AxesImage at 0x7f5100794810>"
      ]
     },
     "execution_count": 37,
     "metadata": {},
     "output_type": "execute_result"
    },
    {
     "data": {
      "image/png": "[encoded data removed]",
      "text/plain": [
       "<Figure size 640x480 with 1 Axes>"
      ]
     },
     "metadata": {},
     "output_type": "display_data"
    }
   ],
   "source": [
    "plt.imshow(u[0, 0], cmap = gcmap, vmin=0, vmax=K-1)"
   ]
  },
  {
   "cell_type": "markdown",
   "metadata": {},
   "source": [
    "## Miscs"
   ]
  },
  {
   "cell_type": "code",
   "execution_count": 38,
   "metadata": {},
   "outputs": [
    {
     "data": {
      "image/png": "[encoded data removed]",
      "text/plain": [
       "<Figure size 1200x500 with 3 Axes>"
      ]
     },
     "metadata": {},
     "output_type": "display_data"
    }
   ],
   "source": [
    "batch = next(iter(test_loader)).to(device)\n",
    "log_batch = index_to_log_onehot(batch, num_classes)\n",
    "\n",
    "log_x0 = log_batch[3].unsqueeze(0)\n",
    "x0 = log_onehot_to_index(log_x0)\n",
    "x0 = u[0, 0].to(device)\n",
    "x0 = x0.reshape(1, *x0.shape)\n",
    "\n",
    "#hide the interior\n",
    "x0 = torch.where((x0 == 1) | (x0 == 2), torch.randint(1, 3, (1, 512, 512)).to(device), x0)\n",
    "log_x0 = index_to_log_onehot(x0, num_classes)\n",
    "t = torch.full((1,), 0, device=device, dtype=torch.long)\n",
    "log_x0_hat = log_x0\n",
    "iters = 10\n",
    "for _ in range(iters):\n",
    "    log_x0_hat = model.predict_start(log_x_t=log_x0_hat, t=t)\n",
    "    log_x0_hat = index_to_log_onehot(log_onehot_to_index(log_x0_hat), num_classes)\n",
    "x0_hat = log_onehot_to_index(log_x0_hat)\n",
    "x0 = log_onehot_to_index(log_x0)\n",
    "diff = (x0_hat[0] == x0[0]).int()\n",
    "custom_plot([x0_hat[0], x0[0], diff])"
   ]
  },
  {
   "cell_type": "code",
   "execution_count": null,
   "metadata": {},
   "outputs": [],
   "source": [
    "############\n",
    "## Sample ##\n",
    "############\n",
    "\n",
    "\n",
    "\"\"\" path_samples = 'samples/sample_ep{}_s{}.png'.format(checkpoint['current_epoch'], eval_args.seed)\n",
    "if not os.path.exists(os.path.dirname(path_samples)):\n",
    "    os.mkdir(os.path.dirname(path_samples)) \"\"\"\n",
    "\n",
    "#deciding whether to put a constraint or not: \n",
    "#ToDo\n",
    "constraint = None\n",
    "chain_samples = eval_args.samples\n",
    "with torch.no_grad():\n",
    "    samples_chain = model.sample_chain(chain_samples, constraint=constraint)\n",
    "\n",
    "print('shape:, ', samples_chain.shape)\n",
    "\n",
    "#Custom grey-level colormap for plotting\n",
    "K = model.num_classes\n",
    "gray_shades = [(1/(K-1) * k, 1/(K-1) * k, 1/(K-1) * k) for k in range(K)]\n",
    "gcmap = ListedColormap(gray_shades)\n",
    "\n",
    "T = len(samples_chain)\n",
    "h = 100\n",
    "N = T // h\n",
    "fig, axs = plt.subplots(1, N+1, figsize = ((N+1) * 4, 4))\n",
    "for i in range(N+1):\n",
    "    axs[i].imshow(samples_chain[max(i * h - 1, 0)][0][0].cpu().numpy(), cmap = gcmap, vmin=0, vmax=K-1)\n",
    "    axs[i].axis('off')\n",
    "    axs[i].set_title('t = {}'.format(max(i * h - 1, 0)+1))\n",
    "plt.savefig('chain_sample.png')"
   ]
  },
  {
   "cell_type": "markdown",
   "metadata": {},
   "source": [
    "## Inpainting"
   ]
  },
  {
   "cell_type": "code",
   "execution_count": 13,
   "metadata": {},
   "outputs": [],
   "source": [
    "num_classes = model.num_classes\n",
    "originals = 1\n",
    "num_samples = 1"
   ]
  },
  {
   "cell_type": "code",
   "execution_count": 14,
   "metadata": {},
   "outputs": [],
   "source": [
    "#getting the x0s to inpaint\n",
    "x0s = []\n",
    "for batch in train_loader:\n",
    "    for i in range(batch.size(0)):\n",
    "        if len(x0s) < originals:\n",
    "            x0s.append(batch[i])\n",
    "        else:\n",
    "            break\n",
    "    if len(x0s) == originals:\n",
    "        break"
   ]
  },
  {
   "cell_type": "code",
   "execution_count": null,
   "metadata": {},
   "outputs": [
    {
     "name": "stderr",
     "output_type": "stream",
     "text": [
      "/net/fraifbucnec102.storage.ge-healthcare.net/nfs/BUC_VOL12_MIX_migr_ph1/frbucx05nvsr01n/static02/tomo-database/bcare/accounts/duval_d/venv/lib/python3.11/site-packages/diffusion_utils/diffusion_multinomial.py:474: UserWarning: To copy construct from a tensor, it is recommended to use sourceTensor.clone().detach() or sourceTensor.clone().detach().requires_grad_(True), rather than torch.tensor(sourceTensor).\n",
      "  x0 = torch.tensor(x0, dtype=torch.int64)\n",
      "/net/fraifbucnec102.storage.ge-healthcare.net/nfs/BUC_VOL12_MIX_migr_ph1/frbucx05nvsr01n/static02/tomo-database/bcare/accounts/duval_d/venv/lib/python3.11/site-packages/diffusion_utils/diffusion_multinomial.py:479: UserWarning: To copy construct from a tensor, it is recommended to use sourceTensor.clone().detach() or sourceTensor.clone().detach().requires_grad_(True), rather than torch.tensor(sourceTensor).\n",
      "  mask = torch.tensor(mask, dtype=torch.float32)\n"
     ]
    },
    {
     "name": "stdout",
     "output_type": "stream",
     "text": [
      "Sample timestep 1980\r"
     ]
    },
    {
     "ename": "KeyboardInterrupt",
     "evalue": "",
     "output_type": "error",
     "traceback": [
      "\u001b[0;31m---------------------------------------------------------------------------\u001b[0m",
      "\u001b[0;31mKeyboardInterrupt\u001b[0m                         Traceback (most recent call last)",
      "Cell \u001b[0;32mIn[11], line 8\u001b[0m\n\u001b[1;32m      6\u001b[0m categories \u001b[38;5;241m=\u001b[39m [\u001b[38;5;241m1\u001b[39m, \u001b[38;5;241m2\u001b[39m]\n\u001b[1;32m      7\u001b[0m \u001b[38;5;28;01mwith\u001b[39;00m torch\u001b[38;5;241m.\u001b[39mno_grad():\n\u001b[0;32m----> 8\u001b[0m     samples \u001b[38;5;241m=\u001b[39m \u001b[43mmodel\u001b[49m\u001b[38;5;241;43m.\u001b[39;49m\u001b[43msample_masked\u001b[49m\u001b[43m(\u001b[49m\u001b[43mnum_samples\u001b[49m\u001b[43m,\u001b[49m\u001b[43m \u001b[49m\u001b[43mx0\u001b[49m\u001b[43m,\u001b[49m\u001b[43m \u001b[49m\u001b[43mmask\u001b[49m\u001b[43m,\u001b[49m\u001b[43m \u001b[49m\u001b[43mcategories\u001b[49m\u001b[43m)\u001b[49m\u001b[38;5;241m.\u001b[39mcpu()\u001b[38;5;241m.\u001b[39mnumpy()\n\u001b[1;32m     10\u001b[0m axs[i, \u001b[38;5;241m0\u001b[39m]\u001b[38;5;241m.\u001b[39mimshow(x0[\u001b[38;5;241m0\u001b[39m]\u001b[38;5;241m.\u001b[39mcpu()\u001b[38;5;241m.\u001b[39mnumpy(), cmap \u001b[38;5;241m=\u001b[39m gcmap, vmin\u001b[38;5;241m=\u001b[39m\u001b[38;5;241m0\u001b[39m, vmax\u001b[38;5;241m=\u001b[39mK\u001b[38;5;241m-\u001b[39m\u001b[38;5;241m1\u001b[39m)\n\u001b[1;32m     11\u001b[0m axs[i, \u001b[38;5;241m0\u001b[39m]\u001b[38;5;241m.\u001b[39maxis(\u001b[38;5;124m'\u001b[39m\u001b[38;5;124moff\u001b[39m\u001b[38;5;124m'\u001b[39m)\n",
      "File \u001b[0;32m/net/fraifbucnec102.storage.ge-healthcare.net/nfs/BUC_VOL12_MIX_migr_ph1/frbucx05nvsr01n/static02/tomo-database/bcare/accounts/duval_d/venv/lib/python3.11/site-packages/diffusion_utils/diffusion_multinomial.py:494\u001b[0m, in \u001b[0;36mMultinomialDiffusion.sample_masked\u001b[0;34m(self, num_samples, x0, mask, categories)\u001b[0m\n\u001b[1;32m    491\u001b[0m     t \u001b[38;5;241m=\u001b[39m torch\u001b[38;5;241m.\u001b[39mfull((b,), i, device\u001b[38;5;241m=\u001b[39mdevice, dtype\u001b[38;5;241m=\u001b[39mtorch\u001b[38;5;241m.\u001b[39mlong)\n\u001b[1;32m    493\u001b[0m     \u001b[38;5;66;03m#sample and apply the mask\u001b[39;00m\n\u001b[0;32m--> 494\u001b[0m     log_z \u001b[38;5;241m=\u001b[39m \u001b[38;5;28;43mself\u001b[39;49m\u001b[38;5;241;43m.\u001b[39;49m\u001b[43mp_sample\u001b[49m\u001b[43m(\u001b[49m\u001b[43mlog_z\u001b[49m\u001b[43m,\u001b[49m\u001b[43m \u001b[49m\u001b[43mt\u001b[49m\u001b[43m,\u001b[49m\u001b[43m \u001b[49m\u001b[43mcategories\u001b[49m\u001b[38;5;241;43m=\u001b[39;49m\u001b[43mcategories\u001b[49m\u001b[43m)\u001b[49m\n\u001b[1;32m    495\u001b[0m     log_z \u001b[38;5;241m=\u001b[39m log_z \u001b[38;5;241m*\u001b[39m (\u001b[38;5;241m1.\u001b[39m \u001b[38;5;241m-\u001b[39m mask) \u001b[38;5;241m+\u001b[39m log_x0 \u001b[38;5;241m*\u001b[39m mask\n\u001b[1;32m    497\u001b[0m \u001b[38;5;66;03m#set back the random state before sampling\u001b[39;00m\n",
      "File \u001b[0;32m/net/fraifbucnec102.storage.ge-healthcare.net/nfs/BUC_VOL12_MIX_migr_ph1/frbucx05nvsr01n/static02/tomo-database/bcare/accounts/duval_d/venv/lib/python3.11/site-packages/torch/utils/_contextlib.py:116\u001b[0m, in \u001b[0;36mcontext_decorator.<locals>.decorate_context\u001b[0;34m(*args, **kwargs)\u001b[0m\n\u001b[1;32m    113\u001b[0m \u001b[38;5;129m@functools\u001b[39m\u001b[38;5;241m.\u001b[39mwraps(func)\n\u001b[1;32m    114\u001b[0m \u001b[38;5;28;01mdef\u001b[39;00m \u001b[38;5;21mdecorate_context\u001b[39m(\u001b[38;5;241m*\u001b[39margs, \u001b[38;5;241m*\u001b[39m\u001b[38;5;241m*\u001b[39mkwargs):\n\u001b[1;32m    115\u001b[0m     \u001b[38;5;28;01mwith\u001b[39;00m ctx_factory():\n\u001b[0;32m--> 116\u001b[0m         \u001b[38;5;28;01mreturn\u001b[39;00m \u001b[43mfunc\u001b[49m\u001b[43m(\u001b[49m\u001b[38;5;241;43m*\u001b[39;49m\u001b[43margs\u001b[49m\u001b[43m,\u001b[49m\u001b[43m \u001b[49m\u001b[38;5;241;43m*\u001b[39;49m\u001b[38;5;241;43m*\u001b[39;49m\u001b[43mkwargs\u001b[49m\u001b[43m)\u001b[49m\n",
      "File \u001b[0;32m/net/fraifbucnec102.storage.ge-healthcare.net/nfs/BUC_VOL12_MIX_migr_ph1/frbucx05nvsr01n/static02/tomo-database/bcare/accounts/duval_d/venv/lib/python3.11/site-packages/diffusion_utils/diffusion_multinomial.py:248\u001b[0m, in \u001b[0;36mMultinomialDiffusion.p_sample\u001b[0;34m(self, log_x, t, constraint, categories)\u001b[0m\n\u001b[1;32m    246\u001b[0m     new_model_log_prob \u001b[38;5;241m=\u001b[39m \u001b[38;5;28mself\u001b[39m\u001b[38;5;241m.\u001b[39mlog_score_to_log_prob(new_log_score,log_x,t)\n\u001b[1;32m    247\u001b[0m     model_log_prob \u001b[38;5;241m=\u001b[39m new_model_log_prob\n\u001b[0;32m--> 248\u001b[0m out \u001b[38;5;241m=\u001b[39m \u001b[38;5;28;43mself\u001b[39;49m\u001b[38;5;241;43m.\u001b[39;49m\u001b[43mlog_sample_categorical\u001b[49m\u001b[43m(\u001b[49m\u001b[43mmodel_log_prob\u001b[49m\u001b[43m,\u001b[49m\u001b[43m \u001b[49m\u001b[43mcategories\u001b[49m\u001b[43m)\u001b[49m\n\u001b[1;32m    249\u001b[0m \u001b[38;5;28;01mreturn\u001b[39;00m out\n",
      "File \u001b[0;32m/net/fraifbucnec102.storage.ge-healthcare.net/nfs/BUC_VOL12_MIX_migr_ph1/frbucx05nvsr01n/static02/tomo-database/bcare/accounts/duval_d/venv/lib/python3.11/site-packages/diffusion_utils/diffusion_multinomial.py:287\u001b[0m, in \u001b[0;36mMultinomialDiffusion.log_sample_categorical\u001b[0;34m(self, logits, categories)\u001b[0m\n\u001b[1;32m    285\u001b[0m     exclude_categories \u001b[38;5;241m=\u001b[39m [k \u001b[38;5;28;01mfor\u001b[39;00m k \u001b[38;5;129;01min\u001b[39;00m \u001b[38;5;28mrange\u001b[39m(\u001b[38;5;28mself\u001b[39m\u001b[38;5;241m.\u001b[39mnum_classes) \u001b[38;5;28;01mif\u001b[39;00m \u001b[38;5;129;01mnot\u001b[39;00m k \u001b[38;5;129;01min\u001b[39;00m categories]\n\u001b[1;32m    286\u001b[0m     logits[:, exclude_categories,\u001b[38;5;241m.\u001b[39m\u001b[38;5;241m.\u001b[39m\u001b[38;5;241m.\u001b[39m] \u001b[38;5;241m=\u001b[39m np\u001b[38;5;241m.\u001b[39mlog(\u001b[38;5;241m1e-30\u001b[39m) \u001b[38;5;66;03m#set the logit to minus infinity\u001b[39;00m\n\u001b[0;32m--> 287\u001b[0m uniform \u001b[38;5;241m=\u001b[39m \u001b[43mtorch\u001b[49m\u001b[38;5;241;43m.\u001b[39;49m\u001b[43mrand_like\u001b[49m\u001b[43m(\u001b[49m\u001b[43mlogits\u001b[49m\u001b[43m)\u001b[49m\n\u001b[1;32m    288\u001b[0m gumbel_noise \u001b[38;5;241m=\u001b[39m \u001b[38;5;241m-\u001b[39mtorch\u001b[38;5;241m.\u001b[39mlog(\u001b[38;5;241m-\u001b[39mtorch\u001b[38;5;241m.\u001b[39mlog(uniform \u001b[38;5;241m+\u001b[39m \u001b[38;5;241m1e-30\u001b[39m) \u001b[38;5;241m+\u001b[39m \u001b[38;5;241m1e-30\u001b[39m)\n\u001b[1;32m    289\u001b[0m sample \u001b[38;5;241m=\u001b[39m (gumbel_noise \u001b[38;5;241m+\u001b[39m logits)\u001b[38;5;241m.\u001b[39margmax(dim\u001b[38;5;241m=\u001b[39m\u001b[38;5;241m1\u001b[39m)\n",
      "\u001b[0;31mKeyboardInterrupt\u001b[0m: "
     ]
    },
    {
     "data": {
      "image/png": "[encoded data removed]",
      "text/plain": [
       "<Figure size 800x600 with 2 Axes>"
      ]
     },
     "metadata": {},
     "output_type": "display_data"
    }
   ],
   "source": [
    "fig, axs = plt.subplots(len(x0s), num_samples+1, figsize=((num_samples+1)* 4, len(x0s) * 4 + 2))\n",
    "for i, x0 in enumerate(x0s):\n",
    "    x0 = x0.unsqueeze(0)\n",
    "    mask = torch.where((x0 == 1) | (x0 == 2), 0, 1)\n",
    "    categories = [1, 2]\n",
    "    with torch.no_grad():\n",
    "        samples = model.sample_masked(num_samples, x0, mask, categories).cpu().numpy()\n",
    "\n",
    "    axs[i, 0].imshow(x0[0].cpu().numpy(), cmap = gcmap, vmin=0, vmax=K-1)\n",
    "    axs[i, 0].axis('off')\n",
    "    axs[i, 0].set_title('Original')\n",
    "    for j, sample in enumerate(samples):\n",
    "        axs[i, j+1].imshow(sample[0], cmap = gcmap, vmin=0, vmax=K-1)\n",
    "        axs[i, j+1].axis('off')\n",
    "        axs[i, j+1].set_title('Sample {}'.format(j+1))"
   ]
  },
  {
   "cell_type": "code",
   "execution_count": 40,
   "metadata": {},
   "outputs": [
    {
     "name": "stderr",
     "output_type": "stream",
     "text": [
      "/net/fraifbucnec102.storage.ge-healthcare.net/nfs/BUC_VOL12_MIX_migr_ph1/frbucx05nvsr01n/static02/tomo-database/bcare/accounts/duval_d/venv/lib/python3.11/site-packages/diffusion_utils/diffusion_multinomial.py:547: UserWarning: To copy construct from a tensor, it is recommended to use sourceTensor.clone().detach() or sourceTensor.clone().detach().requires_grad_(True), rather than torch.tensor(sourceTensor).\n",
      "  x0 = torch.tensor(x0, dtype=torch.int64)\n",
      "/net/fraifbucnec102.storage.ge-healthcare.net/nfs/BUC_VOL12_MIX_migr_ph1/frbucx05nvsr01n/static02/tomo-database/bcare/accounts/duval_d/venv/lib/python3.11/site-packages/diffusion_utils/diffusion_multinomial.py:552: UserWarning: To copy construct from a tensor, it is recommended to use sourceTensor.clone().detach() or sourceTensor.clone().detach().requires_grad_(True), rather than torch.tensor(sourceTensor).\n",
      "  mask = torch.tensor(mask, dtype=torch.float32)\n"
     ]
    },
    {
     "name": "stdout",
     "output_type": "stream",
     "text": [
      "Sample timestep    0\r"
     ]
    }
   ],
   "source": [
    "x0 = u[0, 0].to(device)\n",
    "x0 = x0.reshape(1, *x0.shape)\n",
    "mask = torch.where((x0 == 1) | (x0 == 2), 0, 1)\n",
    "categories = [1, 2]\n",
    "with torch.no_grad():\n",
    "    samples_chain = model.sample_masked_chain(2, x0, mask, categories).cpu().numpy()"
   ]
  },
  {
   "cell_type": "code",
   "execution_count": 45,
   "metadata": {},
   "outputs": [
    {
     "data": {
      "text/plain": [
       "<matplotlib.image.AxesImage at 0x7f50f2cf2e90>"
      ]
     },
     "execution_count": 45,
     "metadata": {},
     "output_type": "execute_result"
    },
    {
     "data": {
      "image/png": "[encoded data removed]",
      "text/plain": [
       "<Figure size 640x480 with 1 Axes>"
      ]
     },
     "metadata": {},
     "output_type": "display_data"
    }
   ],
   "source": [
    "plt.imshow(samples_chain[0][1][0], cmap = gcmap, vmin=0, vmax=K-1)"
   ]
  },
  {
   "cell_type": "code",
   "execution_count": null,
   "metadata": {},
   "outputs": [],
   "source": [
    "plt.show()"
   ]
  },
  {
   "cell_type": "code",
   "execution_count": null,
   "metadata": {},
   "outputs": [],
   "source": [
    "plt.savefig('inpainted_samples.png')"
   ]
  }
 ],
 "metadata": {
  "kernelspec": {
   "display_name": "venv",
   "language": "python",
   "name": "python3"
  },
  "language_info": {
   "codemirror_mode": {
    "name": "ipython",
    "version": 3
   },
   "file_extension": ".py",
   "mimetype": "text/x-python",
   "name": "python",
   "nbconvert_exporter": "python",
   "pygments_lexer": "ipython3",
   "version": "3.11.10"
  }
 },
 "nbformat": 4,
 "nbformat_minor": 2
}
