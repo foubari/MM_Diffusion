{
 "cells": [
  {
   "cell_type": "markdown",
   "id": "3030249c-e1d4-41e4-92eb-5e5c8b8531ed",
   "metadata": {},
   "source": [
    "# Imports"
   ]
  },
  {
   "cell_type": "code",
   "execution_count": 2,
   "id": "ad077eec-c2eb-46ec-b405-3bb3dde80c90",
   "metadata": {
    "tags": []
   },
   "outputs": [],
   "source": [
    "import os\n",
    "import json\n",
    "import matplotlib.pyplot as plt\n",
    "import numpy as np\n",
    "import torch\n",
    "from torch import optim\n",
    "from torch.utils.tensorboard import SummaryWriter\n",
    "from tqdm import tqdm\n",
    "from datetime import datetime\n",
    "from dataset_manipulation.dataloaders import DataLoaderFactory \n"
   ]
  },
  {
   "cell_type": "code",
   "execution_count": 3,
   "id": "0bbc18db-eced-4581-b91f-3a9edfc6366e",
   "metadata": {
    "tags": []
   },
   "outputs": [
    {
     "name": "stderr",
     "output_type": "stream",
     "text": [
      "/home/quintana/github/MM_Diffusion/.venv/lib/python3.12/site-packages/torch/cuda/__init__.py:129: UserWarning: CUDA initialization: The NVIDIA driver on your system is too old (found version 11040). Please update your GPU driver by downloading and installing a new version from the URL: http://www.nvidia.com/Download/index.aspx Alternatively, go to: https://pytorch.org to install a PyTorch version that has been compiled with your version of the CUDA driver. (Triggered internally at ../c10/cuda/CUDAFunctions.cpp:108.)\n",
      "  return torch._C._cuda_getDeviceCount() > 0\n"
     ]
    }
   ],
   "source": [
    "device = torch.device('cuda' if torch.cuda.is_available() else 'cpu')"
   ]
  },
  {
   "cell_type": "code",
   "execution_count": 4,
   "id": "fe58a7ab-334c-44b6-8923-26b87288d807",
   "metadata": {
    "tags": []
   },
   "outputs": [
    {
     "data": {
      "text/plain": [
       "<torch._C.Generator at 0x7f424b0272f0>"
      ]
     },
     "execution_count": 4,
     "metadata": {},
     "output_type": "execute_result"
    }
   ],
   "source": [
    "torch.manual_seed(0)"
   ]
  },
  {
   "cell_type": "code",
   "execution_count": 5,
   "id": "fa76bdb1-21b5-4fa1-9c1e-666f670f1d36",
   "metadata": {
    "tags": []
   },
   "outputs": [],
   "source": [
    "data_path = '../data'"
   ]
  },
  {
   "cell_type": "code",
   "execution_count": 6,
   "id": "e07a43e4-9633-4273-bd63-660a652520dd",
   "metadata": {
    "tags": []
   },
   "outputs": [],
   "source": [
    "dlf = DataLoaderFactory(datadir=data_path, num_workers=1, pin_memory=True)"
   ]
  },
  {
   "cell_type": "code",
   "execution_count": 7,
   "id": "18c95b82-05a0-4437-9184-a81d1b1e10af",
   "metadata": {
    "tags": []
   },
   "outputs": [],
   "source": [
    "\"\"\"\n",
    "Choose a modality dataset name from the following 'polymnist_unimodal','cub_image', 'cub_caption'\n",
    "For polymnist choose the modality nuber in {0,1,2,3,4}.\n",
    "Then you can modify the parameters below\n",
    "\"\"\"\n",
    "dataset_name = 'cub_image'#'polymnist_unimodal' #or 'cub_image'#'cub_caption'\n",
    "dataset_name = 'cub_caption'\n",
    "modality = 0 if dataset_name== 'polymnist_unimodal' else None"
   ]
  },
  {
   "cell_type": "code",
   "execution_count": 35,
   "id": "a9f7c685-f4f8-4dcf-b583-491b0a8ed762",
   "metadata": {},
   "outputs": [],
   "source": [
    "# datasets_names = ['polymnist_unimodal','polymnist_multimodal','cub_caption','cub_image','cub_joint']"
   ]
  },
  {
   "cell_type": "markdown",
   "id": "3c742e7e-23e8-44e4-ac49-d5231c3ef851",
   "metadata": {
    "tags": []
   },
   "source": [
    "# Utils"
   ]
  },
  {
   "cell_type": "code",
   "execution_count": 8,
   "id": "de8f426d-56f3-4f30-9999-fd54c5296594",
   "metadata": {},
   "outputs": [],
   "source": [
    "def plot_training_curves(mean_losses, mean_neg_loglikelihood,  mean_divs):\n",
    "    epochs = len(mean_losses)\n",
    "    plt.figure(figsize=(12, 5))\n",
    "\n",
    "    plt.subplot(1, 3, 1)\n",
    "    plt.plot(range(epochs), mean_losses, label='Loss')\n",
    "    plt.xlabel('Epochs')\n",
    "    plt.ylabel('Loss')\n",
    "    plt.title('Training Loss')\n",
    "\n",
    "    plt.subplot(1, 3, 2)\n",
    "    plt.plot(range(epochs), mean_neg_loglikelihood, label='Mean neg_loglikelihood')\n",
    "    plt.xlabel('Epochs')\n",
    "    plt.ylabel('Mean neg_loglikelihood')\n",
    "    plt.title('Mean neg_loglikelihood')\n",
    "\n",
    "    plt.subplot(1, 3, 3)\n",
    "    plt.plot(range(epochs), mean_divs, label='KL Divergence')\n",
    "    plt.xlabel('Epochs')\n",
    "    plt.ylabel('KL Divergence')\n",
    "    plt.title('KL Divergence')\n",
    "\n",
    "    plt.tight_layout()\n",
    "    plt.show()"
   ]
  },
  {
   "cell_type": "code",
   "execution_count": 9,
   "id": "23598727-1783-48b2-9716-13f94c4af5a9",
   "metadata": {
    "tags": []
   },
   "outputs": [],
   "source": [
    "def get_objective(obj):\n",
    "    if obj == 'elbo':\n",
    "        from objectives import elbo \n",
    "        return elbo\n",
    "    elif obj == 'iwae':\n",
    "        from objectives import iwae \n",
    "        return iwae\n",
    "    elif obj ==  'dreg':\n",
    "        from objectives import  dreg \n",
    "        return dreg\n",
    "    else:\n",
    "            raise ValueError(f\"Dataset '{obj}' is not supported. Choose from 'elbo', 'iwae', 'dreg'.\")"
   ]
  },
  {
   "cell_type": "code",
   "execution_count": 10,
   "id": "46a51fbf-83c9-47de-9630-34d99c62d792",
   "metadata": {},
   "outputs": [],
   "source": [
    "def get_model(dataset_name, params):\n",
    "    if dataset_name == 'cub_caption':\n",
    "        from models.vae_cub_text import CUB_Sentence\n",
    "        return CUB_Sentence(params)\n",
    "    elif dataset_name == 'cub_image':\n",
    "        from models.vae_cub_image import CUB_Image\n",
    "        return CUB_Image(params)\n",
    "    elif dataset_name ==  'polymnist_unimodal':\n",
    "        from models.vae_polymnist import PM_unimodal\n",
    "        return PM_unimodal(params)\n",
    "    else:\n",
    "            raise ValueError(f\"Dataset '{dataset_name}' is not supported. Choose from 'polymnist_unimodal', 'cub_caption', 'cub_image'.\")"
   ]
  },
  {
   "cell_type": "code",
   "execution_count": 11,
   "id": "d6f80272-0d47-419b-8b88-7226f532c81b",
   "metadata": {
    "tags": []
   },
   "outputs": [],
   "source": [
    "def plot_generations(generation, n_samples, dataset_name = dataset_name):\n",
    "    if dataset_name=='cub_caption':\n",
    "        ohe_txt = plot_sentences_as_tensor(generation.squeeze(0))\n",
    "        plot_CUB_text(ohe_txt, n_samples)\n",
    "    else:\n",
    "        plot_images(generation.squeeze(0), n_samples)"
   ]
  },
  {
   "cell_type": "markdown",
   "id": "dc5f5d2c-132c-4b9a-b222-646d7ad562c4",
   "metadata": {
    "tags": []
   },
   "source": [
    "## Text utils"
   ]
  },
  {
   "cell_type": "code",
   "execution_count": 12,
   "id": "9cacd308-c656-45b5-9087-43748662bc55",
   "metadata": {
    "tags": []
   },
   "outputs": [],
   "source": [
    "maxSentLen = 32  # max length of any description for birds dataset\n",
    "minOccur = 3"
   ]
  },
  {
   "cell_type": "code",
   "execution_count": 13,
   "id": "47d778cc-18b7-48ad-8cbe-3103e223746f",
   "metadata": {
    "tags": []
   },
   "outputs": [],
   "source": [
    "vocab_file = data_path + '/cub/oc:{}_msl:{}/cub.vocab'.format(minOccur, maxSentLen)"
   ]
  },
  {
   "cell_type": "code",
   "execution_count": 14,
   "id": "318b0cb1-d1dd-497a-9fee-b399f63e1f84",
   "metadata": {
    "tags": []
   },
   "outputs": [],
   "source": [
    "def load_vocab(vocab_file = vocab_file):\n",
    "        # call dataloader function to create vocab file if it doesn't exist\n",
    "        # if not os.path.exists(vocab_file):\n",
    "        #     _, _ = self.getDataLoaders(256)\n",
    "        with open(vocab_file, 'r') as vocab_file:\n",
    "            vocab = json.load(vocab_file)\n",
    "        return vocab['i2w']"
   ]
  },
  {
   "cell_type": "code",
   "execution_count": 15,
   "id": "0fe8e618-291a-449b-bba4-0e36e6e4634b",
   "metadata": {
    "tags": []
   },
   "outputs": [],
   "source": [
    "i2w = load_vocab()"
   ]
  },
  {
   "cell_type": "code",
   "execution_count": 16,
   "id": "a9be4392-6209-4211-8f06-9dee11b93d57",
   "metadata": {
    "tags": []
   },
   "outputs": [],
   "source": [
    "fn_trun = lambda s: s[:np.where(s == 2)[0][0] + 1] if 2 in s else s"
   ]
  },
  {
   "cell_type": "code",
   "execution_count": 17,
   "id": "d5cdfa27-85f1-4967-86c3-f149c2df76d2",
   "metadata": {
    "tags": []
   },
   "outputs": [],
   "source": [
    "fn_2i = lambda t: t.cpu().numpy().astype(int)"
   ]
  },
  {
   "cell_type": "code",
   "execution_count": 18,
   "id": "8517e8b9-83ab-4491-8455-b402301044c1",
   "metadata": {
    "tags": []
   },
   "outputs": [],
   "source": [
    "def sent_process(sentences):\n",
    "        return [fn_trun(fn_2i(s)) for s in sentences]"
   ]
  },
  {
   "cell_type": "markdown",
   "id": "54b09696-0612-481e-88ec-4e2c36ab57bb",
   "metadata": {
    "tags": []
   },
   "source": [
    "## Visualization"
   ]
  },
  {
   "cell_type": "code",
   "execution_count": 19,
   "id": "d7613893-9fa0-44b6-b221-89ee096a01b6",
   "metadata": {
    "tags": []
   },
   "outputs": [],
   "source": [
    "def plot_images(data, n_samples, modality = 1):\n",
    "    n_rows =  1\n",
    "    n_cols = n_samples\n",
    "    # Set up the subplot grid\n",
    "    fig, axes = plt.subplots(n_rows, n_cols, figsize=(n_cols, n_rows))\n",
    "    \n",
    "    for i in range(n_cols):\n",
    "        ax = axes[i] #if n_images > 1 else axes[j]\n",
    "        img = data[i].detach().cpu().numpy().transpose(1, 2, 0)\n",
    "\n",
    "        ax.imshow(img)\n",
    "        ax.axis('off')  # Turn off axis\n",
    "    \n",
    "    plt.tight_layout()\n",
    "    plt.show()"
   ]
  },
  {
   "cell_type": "code",
   "execution_count": 20,
   "id": "086a2727-9813-4052-9b9e-517d9c6744a8",
   "metadata": {
    "tags": []
   },
   "outputs": [],
   "source": [
    "# Helper function to plot captions so to smoothly log on WandB\n",
    "def plot_text_as_image_tensor(sentences_lists_of_words, pixel_width=64, pixel_height=384):\n",
    "    imgs = []\n",
    "    for sentence in sentences_lists_of_words:\n",
    "        px = 1 / plt.rcParams['figure.dpi']  # pixel in inches\n",
    "        fig = plt.figure(figsize=(pixel_width * px, pixel_height * px))\n",
    "        plt.text(\n",
    "            x=1,\n",
    "            y=0.5,\n",
    "            s='{}'.format(\n",
    "                ' '.join(i + '\\n' if (n + 1) % 1 == 0\n",
    "                         else i for n, i in enumerate([word for word in sentence.split() if word != '<eos>']))),\n",
    "            fontsize=7,\n",
    "            verticalalignment='center_baseline',\n",
    "            horizontalalignment='right'\n",
    "        )\n",
    "        plt.axis('off')\n",
    "\n",
    "        # Draw the canvas and retrieve the image as a NumPy array\n",
    "        fig.canvas.draw()\n",
    "        image_np = np.frombuffer(fig.canvas.tostring_rgb(), dtype=np.uint8)\n",
    "        image_np = image_np.reshape(fig.canvas.get_width_height()[::-1] + (3,))\n",
    "\n",
    "        # Convert the NumPy array to a PyTorch tensor\n",
    "        image_tensor = torch.from_numpy(image_np).permute(2, 0, 1).float() / 255  # Normalize to [0, 1]\n",
    "        imgs.append(image_tensor)\n",
    "        # Clean up the figure\n",
    "        plt.close(fig)\n",
    "    return torch.stack(imgs, dim=0)"
   ]
  },
  {
   "cell_type": "code",
   "execution_count": 21,
   "id": "05e5e6b0-7d30-419b-a274-e5c3ec7d50a9",
   "metadata": {
    "tags": []
   },
   "outputs": [],
   "source": [
    "def plot_sentences_as_tensor(batched_text_modality):\n",
    "    \"\"\"\n",
    "\n",
    "    Args:\n",
    "        batched_text_modality: Gets batch of text modality (as it is in input to forward function)\n",
    "\n",
    "    Returns:\n",
    "        Tensor with a corresponding plot containing the given text\n",
    "    \"\"\"\n",
    "    sentences_processed = sent_process(batched_text_modality.argmax(-1))\n",
    "    sentences_worded = [' '.join(i2w[str(word)] for word in sent if i2w[str(word)] != '<pad>') for sent in sentences_processed]\n",
    "    return plot_text_as_image_tensor(sentences_worded, pixel_width=64, pixel_height=384)"
   ]
  },
  {
   "cell_type": "code",
   "execution_count": 22,
   "id": "6074e4c9-92a7-4767-ba21-f4e342cac65f",
   "metadata": {
    "tags": []
   },
   "outputs": [],
   "source": [
    "def plot_CUB_text(data, n_samples):\n",
    "    n_rows =  1\n",
    "    n_cols = n_samples\n",
    "    # Set up the subplot grid\n",
    "    fig, axes = plt.subplots(n_rows, n_cols, figsize=(20, 20))\n",
    "    \n",
    "    for i in range(n_cols):\n",
    "        ax = axes[i] #if n_images > 1 else axes[j]\n",
    "        img = data[i].detach().cpu().numpy().transpose(1, 2, 0)\n",
    "\n",
    "        ax.imshow(img)\n",
    "        ax.axis('off')  # Turn off axis\n",
    "    \n",
    "    plt.tight_layout()\n",
    "    plt.show()"
   ]
  },
  {
   "cell_type": "markdown",
   "id": "2d244099-8fc8-4244-8078-b80efbabd9fb",
   "metadata": {
    "tags": []
   },
   "source": [
    "# Train function"
   ]
  },
  {
   "cell_type": "code",
   "execution_count": 23,
   "id": "f54e304e-5bf6-4fd1-b80f-d795f3b03227",
   "metadata": {
    "tags": []
   },
   "outputs": [],
   "source": [
    "def create_log_dir(epochs, beta, latent_dim, dist, obj='elbo', dataset_name=dataset_name, modality=None):\n",
    "    if dataset_name == 'polymnist_unimodal':\n",
    "        dataset_name+='_'+str(modality)\n",
    "    # Generate a unique directory name\n",
    "    timestamp = datetime.now().strftime('%Y%m%d_%H%M%S')\n",
    "    log_and_model_dir = f'../runs/{dataset_name}/vae/ep_{epochs}_beta_{beta}_lt_{latent_dim}_dist_{dist}_{obj}_{timestamp}'        \n",
    "    os.makedirs(log_and_model_dir, exist_ok=True)\n",
    "    # Use this directory for both TensorBoard logs and saving models\n",
    "    return log_and_model_dir"
   ]
  },
  {
   "cell_type": "code",
   "execution_count": 24,
   "id": "fda73bb2-0fe2-40cb-b029-917254e37bc2",
   "metadata": {},
   "outputs": [],
   "source": [
    "def train(model, dataloader, optimizer, epochs, beta, log_path, objective,  log_interval=1, K=1, plot_freq = 5):\n",
    "    \n",
    "    model.train()\n",
    "    \n",
    "    writer = SummaryWriter(log_path)\n",
    "    # Lists to store the mean values of metrics per epoch\n",
    "    mean_losses = []\n",
    "    mean_neg_loglikelihood= []\n",
    "    mean_divs = []\n",
    "    \n",
    "\n",
    "    for epoch in tqdm(range(epochs)):\n",
    "        # Lists to store metrics per batch in the current epoch\n",
    "        batch_losses = []\n",
    "        batch_neg_loglikelihood= []\n",
    "        batch_divs = []\n",
    "\n",
    "        for i, (data,_) in enumerate(train_loader):\n",
    "            if dataset_name == 'polymnist_unimodal':\n",
    "                data = data[0]\n",
    "            data = data.to(device)\n",
    "            optimizer.zero_grad()\n",
    "            elbo, neg_logliklihood, div = objective(model, data, beta, K=K)\n",
    "            loss = - elbo\n",
    "            loss.backward()\n",
    "            optimizer.step()\n",
    "            # Store the metrics for the current batch\n",
    "            batch_losses.append(loss.item())\n",
    "            batch_neg_loglikelihood.append(neg_logliklihood.item())\n",
    "            batch_divs.append(div.item())\n",
    "\n",
    "        # Compute the mean values for the current epoch and store them\n",
    "        mean_losses.append(sum(batch_losses) / len(batch_losses))\n",
    "        mean_neg_loglikelihood.append(sum(batch_neg_loglikelihood) / len(batch_neg_loglikelihood))\n",
    "        mean_divs.append(sum(batch_divs) / len(batch_divs))\n",
    "        \n",
    "        # Log metrics to TensorBoard\n",
    "        if epoch % log_interval == 0:  # Log every 'log_interval' epochs\n",
    "            writer.add_scalar('Total Loss/train', mean_losses[-1], epoch)\n",
    "            writer.add_scalar('Negative LogLikelihood/train', mean_neg_loglikelihood[-1], epoch)\n",
    "            writer.add_scalar('Div/train', mean_divs[-1], epoch)\n",
    "       \n",
    "        if (epoch+1)%plot_freq ==0 or epoch==epochs-1:\n",
    "                N = 9\n",
    "                generations = model.generate(N)\n",
    "                plot_generations(generations, N)\n",
    "        \n",
    "        # Optional: print the mean metrics for the current epoch\n",
    "        # print(f\"Epoch {epoch+1}/{epochs}, Loss: {mean_losses[-1]:.4f}, log p(x|z): {mean_log_px_zs[-1]:.4f}, DIV: {mean_divs[-1]:.4f} \")\n",
    "       # Save the model\n",
    "        model_save_path = os.path.join(log_path, 'model_state_dict.pt')\n",
    "        torch.save(model.state_dict(), model_save_path)\n",
    "    writer.close()\n",
    "    \n",
    "    return mean_losses, mean_neg_loglikelihood,  mean_divs\n"
   ]
  },
  {
   "cell_type": "markdown",
   "id": "e1dca9d5-83d8-4214-a8db-2a54077cb5b7",
   "metadata": {
    "tags": []
   },
   "source": [
    "# Model instantiation & training"
   ]
  },
  {
   "cell_type": "code",
   "execution_count": 25,
   "id": "8ad8b850-0415-4819-a87f-f57d2e1905ad",
   "metadata": {
    "tags": []
   },
   "outputs": [],
   "source": [
    "\"\"\"\n",
    "You can define the model hyper parameters here\n",
    "\"\"\"\n",
    "\n",
    "class Params:\n",
    "    def __init__(self, device = device, modality=modality):\n",
    "        self.priorposterior = 'Normal'\n",
    "        if dataset_name == 'cub_image':\n",
    "            self.latent_dim = 16\n",
    "        elif dataset_name == 'cub_caption':\n",
    "            self.latent_dim = 48\n",
    "        elif dataset_name == 'polymnist_unimodal':\n",
    "            self.latent_dim = 64\n",
    "        self.modality = modality            \n",
    "        self.device = device"
   ]
  },
  {
   "cell_type": "code",
   "execution_count": 26,
   "id": "6764dc61-9851-411d-bf8f-3fd9f88665e7",
   "metadata": {
    "tags": []
   },
   "outputs": [],
   "source": [
    "\"\"\"\n",
    "Training parameters\n",
    "\"\"\"\n",
    "batch_size = 256\n",
    "epochs = 10\n",
    "obj = 'elbo'\n",
    "objective = get_objective(obj)\n",
    "beta = 1\n",
    "K=1\n",
    "plot_freq = 5\n",
    "lr = 1e-3"
   ]
  },
  {
   "cell_type": "code",
   "execution_count": 27,
   "id": "cda91785-78fd-40f9-aaaa-ab0799c264f3",
   "metadata": {
    "tags": []
   },
   "outputs": [],
   "source": [
    "params = Params()"
   ]
  },
  {
   "cell_type": "code",
   "execution_count": 28,
   "id": "d81d1cab-1712-4ac2-886a-120649760b71",
   "metadata": {
    "tags": []
   },
   "outputs": [],
   "source": [
    "model = get_model(dataset_name, params).to(device)"
   ]
  },
  {
   "cell_type": "code",
   "execution_count": 29,
   "id": "706e4a7f-fd57-4a38-9096-9755145c9341",
   "metadata": {
    "tags": []
   },
   "outputs": [],
   "source": [
    "optimizer = optim.Adam(filter(lambda p: p.requires_grad, model.parameters()),\n",
    "                       lr=lr, amsgrad=True)"
   ]
  },
  {
   "cell_type": "markdown",
   "id": "ae858252-2d40-45dd-85db-fbed02ea61d8",
   "metadata": {},
   "source": [
    "## Parameters definition"
   ]
  },
  {
   "cell_type": "markdown",
   "id": "774ca134-5007-45f4-ab46-d019c3e1e9d8",
   "metadata": {},
   "source": [
    "## Train"
   ]
  },
  {
   "cell_type": "code",
   "execution_count": 30,
   "id": "c677cf98-040c-4465-b6ae-b949050443cb",
   "metadata": {
    "tags": []
   },
   "outputs": [],
   "source": [
    "train_loader, test_loader = dlf.get_dataloader(dataset_name, batch_size, modality=params.modality)"
   ]
  },
  {
   "cell_type": "code",
   "execution_count": 31,
   "id": "16122184-6394-46a6-b37a-5aab9561cd98",
   "metadata": {
    "tags": []
   },
   "outputs": [
    {
     "name": "stderr",
     "output_type": "stream",
     "text": [
      "  0%|          | 0/10 [01:24<?, ?it/s]\n"
     ]
    },
    {
     "ename": "KeyboardInterrupt",
     "evalue": "",
     "output_type": "error",
     "traceback": [
      "\u001b[0;31m---------------------------------------------------------------------------\u001b[0m",
      "\u001b[0;31mKeyboardInterrupt\u001b[0m                         Traceback (most recent call last)",
      "Cell \u001b[0;32mIn[31], line 2\u001b[0m\n\u001b[1;32m      1\u001b[0m log_path \u001b[38;5;241m=\u001b[39m create_log_dir(epochs, beta, params\u001b[38;5;241m.\u001b[39mlatent_dim, params\u001b[38;5;241m.\u001b[39mpriorposterior, obj\u001b[38;5;241m=\u001b[39mobj, modality\u001b[38;5;241m=\u001b[39mparams\u001b[38;5;241m.\u001b[39mmodality)\n\u001b[0;32m----> 2\u001b[0m mean_losses, mean_neg_loglikelihood,  mean_divs \u001b[38;5;241m=\u001b[39m \u001b[43mtrain\u001b[49m\u001b[43m(\u001b[49m\u001b[43mmodel\u001b[49m\u001b[43m,\u001b[49m\u001b[43m \u001b[49m\u001b[43mtrain_loader\u001b[49m\u001b[43m,\u001b[49m\u001b[43m \u001b[49m\u001b[43moptimizer\u001b[49m\u001b[43m,\u001b[49m\u001b[43m \u001b[49m\u001b[43mepochs\u001b[49m\u001b[43m,\u001b[49m\u001b[43m \u001b[49m\u001b[43mbeta\u001b[49m\u001b[43m,\u001b[49m\u001b[43m \u001b[49m\u001b[43mlog_path\u001b[49m\u001b[43m,\u001b[49m\n\u001b[1;32m      3\u001b[0m \u001b[43m          \u001b[49m\u001b[43mlog_interval\u001b[49m\u001b[38;5;241;43m=\u001b[39;49m\u001b[38;5;241;43m1\u001b[39;49m\u001b[43m,\u001b[49m\u001b[43m \u001b[49m\u001b[43mK\u001b[49m\u001b[38;5;241;43m=\u001b[39;49m\u001b[43mK\u001b[49m\u001b[43m,\u001b[49m\u001b[43m \u001b[49m\u001b[43mobjective\u001b[49m\u001b[38;5;241;43m=\u001b[39;49m\u001b[43mobjective\u001b[49m\u001b[43m)\u001b[49m\n",
      "Cell \u001b[0;32mIn[24], line 23\u001b[0m, in \u001b[0;36mtrain\u001b[0;34m(model, dataloader, optimizer, epochs, beta, log_path, objective, log_interval, K, plot_freq)\u001b[0m\n\u001b[1;32m     21\u001b[0m data \u001b[38;5;241m=\u001b[39m data\u001b[38;5;241m.\u001b[39mto(device)\n\u001b[1;32m     22\u001b[0m optimizer\u001b[38;5;241m.\u001b[39mzero_grad()\n\u001b[0;32m---> 23\u001b[0m elbo, neg_logliklihood, div \u001b[38;5;241m=\u001b[39m \u001b[43mobjective\u001b[49m\u001b[43m(\u001b[49m\u001b[43mmodel\u001b[49m\u001b[43m,\u001b[49m\u001b[43m \u001b[49m\u001b[43mdata\u001b[49m\u001b[43m,\u001b[49m\u001b[43m \u001b[49m\u001b[43mbeta\u001b[49m\u001b[43m,\u001b[49m\u001b[43m \u001b[49m\u001b[43mK\u001b[49m\u001b[38;5;241;43m=\u001b[39;49m\u001b[43mK\u001b[49m\u001b[43m)\u001b[49m\n\u001b[1;32m     24\u001b[0m loss \u001b[38;5;241m=\u001b[39m \u001b[38;5;241m-\u001b[39m elbo\n\u001b[1;32m     25\u001b[0m loss\u001b[38;5;241m.\u001b[39mbackward()\n",
      "File \u001b[0;32m~/github/MM_Diffusion/src/objectives.py:19\u001b[0m, in \u001b[0;36melbo\u001b[0;34m(model, x, beta, K)\u001b[0m\n\u001b[1;32m     17\u001b[0m \u001b[38;5;28;01mdef\u001b[39;00m \u001b[38;5;21melbo\u001b[39m(model, x, beta, K\u001b[38;5;241m=\u001b[39m\u001b[38;5;241m1\u001b[39m):\n\u001b[1;32m     18\u001b[0m \u001b[38;5;250m    \u001b[39m\u001b[38;5;124;03m\"\"\"Computes E_{p(x)}[ELBO] \"\"\"\u001b[39;00m\n\u001b[0;32m---> 19\u001b[0m     qz_x, px_z, _ \u001b[38;5;241m=\u001b[39m \u001b[43mmodel\u001b[49m\u001b[43m(\u001b[49m\u001b[43mx\u001b[49m\u001b[43m)\u001b[49m\n\u001b[1;32m     20\u001b[0m     lpx_z \u001b[38;5;241m=\u001b[39m px_z\u001b[38;5;241m.\u001b[39mlog_prob(x)\u001b[38;5;241m.\u001b[39mview(\u001b[38;5;241m*\u001b[39mpx_z\u001b[38;5;241m.\u001b[39mbatch_shape[:\u001b[38;5;241m2\u001b[39m], \u001b[38;5;241m-\u001b[39m\u001b[38;5;241m1\u001b[39m)\u001b[38;5;241m.\u001b[39msum(\u001b[38;5;241m-\u001b[39m\u001b[38;5;241m1\u001b[39m) \n\u001b[1;32m     21\u001b[0m     kld \u001b[38;5;241m=\u001b[39m kl_divergence(qz_x, model\u001b[38;5;241m.\u001b[39mpz(\u001b[38;5;241m*\u001b[39mmodel\u001b[38;5;241m.\u001b[39mpz_params))\n",
      "File \u001b[0;32m~/github/MM_Diffusion/.venv/lib/python3.12/site-packages/torch/nn/modules/module.py:1736\u001b[0m, in \u001b[0;36mModule._wrapped_call_impl\u001b[0;34m(self, *args, **kwargs)\u001b[0m\n\u001b[1;32m   1734\u001b[0m     \u001b[38;5;28;01mreturn\u001b[39;00m \u001b[38;5;28mself\u001b[39m\u001b[38;5;241m.\u001b[39m_compiled_call_impl(\u001b[38;5;241m*\u001b[39margs, \u001b[38;5;241m*\u001b[39m\u001b[38;5;241m*\u001b[39mkwargs)  \u001b[38;5;66;03m# type: ignore[misc]\u001b[39;00m\n\u001b[1;32m   1735\u001b[0m \u001b[38;5;28;01melse\u001b[39;00m:\n\u001b[0;32m-> 1736\u001b[0m     \u001b[38;5;28;01mreturn\u001b[39;00m \u001b[38;5;28;43mself\u001b[39;49m\u001b[38;5;241;43m.\u001b[39;49m\u001b[43m_call_impl\u001b[49m\u001b[43m(\u001b[49m\u001b[38;5;241;43m*\u001b[39;49m\u001b[43margs\u001b[49m\u001b[43m,\u001b[49m\u001b[43m \u001b[49m\u001b[38;5;241;43m*\u001b[39;49m\u001b[38;5;241;43m*\u001b[39;49m\u001b[43mkwargs\u001b[49m\u001b[43m)\u001b[49m\n",
      "File \u001b[0;32m~/github/MM_Diffusion/.venv/lib/python3.12/site-packages/torch/nn/modules/module.py:1747\u001b[0m, in \u001b[0;36mModule._call_impl\u001b[0;34m(self, *args, **kwargs)\u001b[0m\n\u001b[1;32m   1742\u001b[0m \u001b[38;5;66;03m# If we don't have any hooks, we want to skip the rest of the logic in\u001b[39;00m\n\u001b[1;32m   1743\u001b[0m \u001b[38;5;66;03m# this function, and just call forward.\u001b[39;00m\n\u001b[1;32m   1744\u001b[0m \u001b[38;5;28;01mif\u001b[39;00m \u001b[38;5;129;01mnot\u001b[39;00m (\u001b[38;5;28mself\u001b[39m\u001b[38;5;241m.\u001b[39m_backward_hooks \u001b[38;5;129;01mor\u001b[39;00m \u001b[38;5;28mself\u001b[39m\u001b[38;5;241m.\u001b[39m_backward_pre_hooks \u001b[38;5;129;01mor\u001b[39;00m \u001b[38;5;28mself\u001b[39m\u001b[38;5;241m.\u001b[39m_forward_hooks \u001b[38;5;129;01mor\u001b[39;00m \u001b[38;5;28mself\u001b[39m\u001b[38;5;241m.\u001b[39m_forward_pre_hooks\n\u001b[1;32m   1745\u001b[0m         \u001b[38;5;129;01mor\u001b[39;00m _global_backward_pre_hooks \u001b[38;5;129;01mor\u001b[39;00m _global_backward_hooks\n\u001b[1;32m   1746\u001b[0m         \u001b[38;5;129;01mor\u001b[39;00m _global_forward_hooks \u001b[38;5;129;01mor\u001b[39;00m _global_forward_pre_hooks):\n\u001b[0;32m-> 1747\u001b[0m     \u001b[38;5;28;01mreturn\u001b[39;00m \u001b[43mforward_call\u001b[49m\u001b[43m(\u001b[49m\u001b[38;5;241;43m*\u001b[39;49m\u001b[43margs\u001b[49m\u001b[43m,\u001b[49m\u001b[43m \u001b[49m\u001b[38;5;241;43m*\u001b[39;49m\u001b[38;5;241;43m*\u001b[39;49m\u001b[43mkwargs\u001b[49m\u001b[43m)\u001b[49m\n\u001b[1;32m   1749\u001b[0m result \u001b[38;5;241m=\u001b[39m \u001b[38;5;28;01mNone\u001b[39;00m\n\u001b[1;32m   1750\u001b[0m called_always_called_hooks \u001b[38;5;241m=\u001b[39m \u001b[38;5;28mset\u001b[39m()\n",
      "File \u001b[0;32m~/github/MM_Diffusion/src/models/vae_base.py:46\u001b[0m, in \u001b[0;36mVAE.forward\u001b[0;34m(self, x, K)\u001b[0m\n\u001b[1;32m     39\u001b[0m \u001b[38;5;28;01mdef\u001b[39;00m \u001b[38;5;21mforward\u001b[39m(\u001b[38;5;28mself\u001b[39m, x, K\u001b[38;5;241m=\u001b[39m\u001b[38;5;241m1\u001b[39m):\n\u001b[1;32m     40\u001b[0m \u001b[38;5;250m    \u001b[39m\u001b[38;5;124;03m\"\"\"\u001b[39;00m\n\u001b[1;32m     41\u001b[0m \u001b[38;5;124;03m    Forward function\u001b[39;00m\n\u001b[1;32m     42\u001b[0m \u001b[38;5;124;03m    Returns:\u001b[39;00m\n\u001b[1;32m     43\u001b[0m \u001b[38;5;124;03m        Encoding dist, latents, decoding dist\u001b[39;00m\n\u001b[1;32m     44\u001b[0m \n\u001b[1;32m     45\u001b[0m \u001b[38;5;124;03m    \"\"\"\u001b[39;00m\n\u001b[0;32m---> 46\u001b[0m     \u001b[38;5;28mself\u001b[39m\u001b[38;5;241m.\u001b[39m_qz_x_params \u001b[38;5;241m=\u001b[39m \u001b[38;5;28;43mself\u001b[39;49m\u001b[38;5;241;43m.\u001b[39;49m\u001b[43menc\u001b[49m\u001b[43m(\u001b[49m\u001b[43mx\u001b[49m\u001b[43m)\u001b[49m \u001b[38;5;66;03m# Get encoding distribution params from encoder\u001b[39;00m\n\u001b[1;32m     47\u001b[0m     qz_x \u001b[38;5;241m=\u001b[39m \u001b[38;5;28mself\u001b[39m\u001b[38;5;241m.\u001b[39mqz_x(\u001b[38;5;241m*\u001b[39m\u001b[38;5;28mself\u001b[39m\u001b[38;5;241m.\u001b[39m_qz_x_params) \u001b[38;5;66;03m# Encoding distribution\u001b[39;00m\n\u001b[1;32m     48\u001b[0m     zs \u001b[38;5;241m=\u001b[39m qz_x\u001b[38;5;241m.\u001b[39mrsample(torch\u001b[38;5;241m.\u001b[39mSize([K])) \u001b[38;5;66;03m# K-sample reparameterization trick\u001b[39;00m\n",
      "File \u001b[0;32m~/github/MM_Diffusion/.venv/lib/python3.12/site-packages/torch/nn/modules/module.py:1736\u001b[0m, in \u001b[0;36mModule._wrapped_call_impl\u001b[0;34m(self, *args, **kwargs)\u001b[0m\n\u001b[1;32m   1734\u001b[0m     \u001b[38;5;28;01mreturn\u001b[39;00m \u001b[38;5;28mself\u001b[39m\u001b[38;5;241m.\u001b[39m_compiled_call_impl(\u001b[38;5;241m*\u001b[39margs, \u001b[38;5;241m*\u001b[39m\u001b[38;5;241m*\u001b[39mkwargs)  \u001b[38;5;66;03m# type: ignore[misc]\u001b[39;00m\n\u001b[1;32m   1735\u001b[0m \u001b[38;5;28;01melse\u001b[39;00m:\n\u001b[0;32m-> 1736\u001b[0m     \u001b[38;5;28;01mreturn\u001b[39;00m \u001b[38;5;28;43mself\u001b[39;49m\u001b[38;5;241;43m.\u001b[39;49m\u001b[43m_call_impl\u001b[49m\u001b[43m(\u001b[49m\u001b[38;5;241;43m*\u001b[39;49m\u001b[43margs\u001b[49m\u001b[43m,\u001b[49m\u001b[43m \u001b[49m\u001b[38;5;241;43m*\u001b[39;49m\u001b[38;5;241;43m*\u001b[39;49m\u001b[43mkwargs\u001b[49m\u001b[43m)\u001b[49m\n",
      "File \u001b[0;32m~/github/MM_Diffusion/.venv/lib/python3.12/site-packages/torch/nn/modules/module.py:1747\u001b[0m, in \u001b[0;36mModule._call_impl\u001b[0;34m(self, *args, **kwargs)\u001b[0m\n\u001b[1;32m   1742\u001b[0m \u001b[38;5;66;03m# If we don't have any hooks, we want to skip the rest of the logic in\u001b[39;00m\n\u001b[1;32m   1743\u001b[0m \u001b[38;5;66;03m# this function, and just call forward.\u001b[39;00m\n\u001b[1;32m   1744\u001b[0m \u001b[38;5;28;01mif\u001b[39;00m \u001b[38;5;129;01mnot\u001b[39;00m (\u001b[38;5;28mself\u001b[39m\u001b[38;5;241m.\u001b[39m_backward_hooks \u001b[38;5;129;01mor\u001b[39;00m \u001b[38;5;28mself\u001b[39m\u001b[38;5;241m.\u001b[39m_backward_pre_hooks \u001b[38;5;129;01mor\u001b[39;00m \u001b[38;5;28mself\u001b[39m\u001b[38;5;241m.\u001b[39m_forward_hooks \u001b[38;5;129;01mor\u001b[39;00m \u001b[38;5;28mself\u001b[39m\u001b[38;5;241m.\u001b[39m_forward_pre_hooks\n\u001b[1;32m   1745\u001b[0m         \u001b[38;5;129;01mor\u001b[39;00m _global_backward_pre_hooks \u001b[38;5;129;01mor\u001b[39;00m _global_backward_hooks\n\u001b[1;32m   1746\u001b[0m         \u001b[38;5;129;01mor\u001b[39;00m _global_forward_hooks \u001b[38;5;129;01mor\u001b[39;00m _global_forward_pre_hooks):\n\u001b[0;32m-> 1747\u001b[0m     \u001b[38;5;28;01mreturn\u001b[39;00m \u001b[43mforward_call\u001b[49m\u001b[43m(\u001b[49m\u001b[38;5;241;43m*\u001b[39;49m\u001b[43margs\u001b[49m\u001b[43m,\u001b[49m\u001b[43m \u001b[49m\u001b[38;5;241;43m*\u001b[39;49m\u001b[38;5;241;43m*\u001b[39;49m\u001b[43mkwargs\u001b[49m\u001b[43m)\u001b[49m\n\u001b[1;32m   1749\u001b[0m result \u001b[38;5;241m=\u001b[39m \u001b[38;5;28;01mNone\u001b[39;00m\n\u001b[1;32m   1750\u001b[0m called_always_called_hooks \u001b[38;5;241m=\u001b[39m \u001b[38;5;28mset\u001b[39m()\n",
      "File \u001b[0;32m~/github/MM_Diffusion/src/models/encoder_decoder/cnn_cub_text.py:60\u001b[0m, in \u001b[0;36mEnc.forward\u001b[0;34m(self, x)\u001b[0m\n\u001b[1;32m     58\u001b[0m \u001b[38;5;28;01mdef\u001b[39;00m \u001b[38;5;21mforward\u001b[39m(\u001b[38;5;28mself\u001b[39m, x):\n\u001b[1;32m     59\u001b[0m     x_emb \u001b[38;5;241m=\u001b[39m \u001b[38;5;28mself\u001b[39m\u001b[38;5;241m.\u001b[39membedding(x)\u001b[38;5;241m.\u001b[39munsqueeze(\u001b[38;5;241m1\u001b[39m)  \u001b[38;5;66;03m# Shape: [batch_size, 1, maxSentLen, embeddingDim]\u001b[39;00m\n\u001b[0;32m---> 60\u001b[0m     e \u001b[38;5;241m=\u001b[39m \u001b[38;5;28;43mself\u001b[39;49m\u001b[38;5;241;43m.\u001b[39;49m\u001b[43menc\u001b[49m\u001b[43m(\u001b[49m\u001b[43mx_emb\u001b[49m\u001b[43m)\u001b[49m  \u001b[38;5;66;03m# Output size: [batch_size, channels, 4, 4]\u001b[39;00m\n\u001b[1;32m     61\u001b[0m     e_flat \u001b[38;5;241m=\u001b[39m e\u001b[38;5;241m.\u001b[39mview(e\u001b[38;5;241m.\u001b[39msize(\u001b[38;5;241m0\u001b[39m), \u001b[38;5;241m-\u001b[39m\u001b[38;5;241m1\u001b[39m)  \u001b[38;5;66;03m# Flatten the feature map\u001b[39;00m\n\u001b[1;32m     62\u001b[0m     mu \u001b[38;5;241m=\u001b[39m \u001b[38;5;28mself\u001b[39m\u001b[38;5;241m.\u001b[39mfc_mu(e_flat)\n",
      "File \u001b[0;32m~/github/MM_Diffusion/.venv/lib/python3.12/site-packages/torch/nn/modules/module.py:1736\u001b[0m, in \u001b[0;36mModule._wrapped_call_impl\u001b[0;34m(self, *args, **kwargs)\u001b[0m\n\u001b[1;32m   1734\u001b[0m     \u001b[38;5;28;01mreturn\u001b[39;00m \u001b[38;5;28mself\u001b[39m\u001b[38;5;241m.\u001b[39m_compiled_call_impl(\u001b[38;5;241m*\u001b[39margs, \u001b[38;5;241m*\u001b[39m\u001b[38;5;241m*\u001b[39mkwargs)  \u001b[38;5;66;03m# type: ignore[misc]\u001b[39;00m\n\u001b[1;32m   1735\u001b[0m \u001b[38;5;28;01melse\u001b[39;00m:\n\u001b[0;32m-> 1736\u001b[0m     \u001b[38;5;28;01mreturn\u001b[39;00m \u001b[38;5;28;43mself\u001b[39;49m\u001b[38;5;241;43m.\u001b[39;49m\u001b[43m_call_impl\u001b[49m\u001b[43m(\u001b[49m\u001b[38;5;241;43m*\u001b[39;49m\u001b[43margs\u001b[49m\u001b[43m,\u001b[49m\u001b[43m \u001b[49m\u001b[38;5;241;43m*\u001b[39;49m\u001b[38;5;241;43m*\u001b[39;49m\u001b[43mkwargs\u001b[49m\u001b[43m)\u001b[49m\n",
      "File \u001b[0;32m~/github/MM_Diffusion/.venv/lib/python3.12/site-packages/torch/nn/modules/module.py:1747\u001b[0m, in \u001b[0;36mModule._call_impl\u001b[0;34m(self, *args, **kwargs)\u001b[0m\n\u001b[1;32m   1742\u001b[0m \u001b[38;5;66;03m# If we don't have any hooks, we want to skip the rest of the logic in\u001b[39;00m\n\u001b[1;32m   1743\u001b[0m \u001b[38;5;66;03m# this function, and just call forward.\u001b[39;00m\n\u001b[1;32m   1744\u001b[0m \u001b[38;5;28;01mif\u001b[39;00m \u001b[38;5;129;01mnot\u001b[39;00m (\u001b[38;5;28mself\u001b[39m\u001b[38;5;241m.\u001b[39m_backward_hooks \u001b[38;5;129;01mor\u001b[39;00m \u001b[38;5;28mself\u001b[39m\u001b[38;5;241m.\u001b[39m_backward_pre_hooks \u001b[38;5;129;01mor\u001b[39;00m \u001b[38;5;28mself\u001b[39m\u001b[38;5;241m.\u001b[39m_forward_hooks \u001b[38;5;129;01mor\u001b[39;00m \u001b[38;5;28mself\u001b[39m\u001b[38;5;241m.\u001b[39m_forward_pre_hooks\n\u001b[1;32m   1745\u001b[0m         \u001b[38;5;129;01mor\u001b[39;00m _global_backward_pre_hooks \u001b[38;5;129;01mor\u001b[39;00m _global_backward_hooks\n\u001b[1;32m   1746\u001b[0m         \u001b[38;5;129;01mor\u001b[39;00m _global_forward_hooks \u001b[38;5;129;01mor\u001b[39;00m _global_forward_pre_hooks):\n\u001b[0;32m-> 1747\u001b[0m     \u001b[38;5;28;01mreturn\u001b[39;00m \u001b[43mforward_call\u001b[49m\u001b[43m(\u001b[49m\u001b[38;5;241;43m*\u001b[39;49m\u001b[43margs\u001b[49m\u001b[43m,\u001b[49m\u001b[43m \u001b[49m\u001b[38;5;241;43m*\u001b[39;49m\u001b[38;5;241;43m*\u001b[39;49m\u001b[43mkwargs\u001b[49m\u001b[43m)\u001b[49m\n\u001b[1;32m   1749\u001b[0m result \u001b[38;5;241m=\u001b[39m \u001b[38;5;28;01mNone\u001b[39;00m\n\u001b[1;32m   1750\u001b[0m called_always_called_hooks \u001b[38;5;241m=\u001b[39m \u001b[38;5;28mset\u001b[39m()\n",
      "File \u001b[0;32m~/github/MM_Diffusion/.venv/lib/python3.12/site-packages/torch/nn/modules/container.py:250\u001b[0m, in \u001b[0;36mSequential.forward\u001b[0;34m(self, input)\u001b[0m\n\u001b[1;32m    248\u001b[0m \u001b[38;5;28;01mdef\u001b[39;00m \u001b[38;5;21mforward\u001b[39m(\u001b[38;5;28mself\u001b[39m, \u001b[38;5;28minput\u001b[39m):\n\u001b[1;32m    249\u001b[0m     \u001b[38;5;28;01mfor\u001b[39;00m module \u001b[38;5;129;01min\u001b[39;00m \u001b[38;5;28mself\u001b[39m:\n\u001b[0;32m--> 250\u001b[0m         \u001b[38;5;28minput\u001b[39m \u001b[38;5;241m=\u001b[39m \u001b[43mmodule\u001b[49m\u001b[43m(\u001b[49m\u001b[38;5;28;43minput\u001b[39;49m\u001b[43m)\u001b[49m\n\u001b[1;32m    251\u001b[0m     \u001b[38;5;28;01mreturn\u001b[39;00m \u001b[38;5;28minput\u001b[39m\n",
      "File \u001b[0;32m~/github/MM_Diffusion/.venv/lib/python3.12/site-packages/torch/nn/modules/module.py:1736\u001b[0m, in \u001b[0;36mModule._wrapped_call_impl\u001b[0;34m(self, *args, **kwargs)\u001b[0m\n\u001b[1;32m   1734\u001b[0m     \u001b[38;5;28;01mreturn\u001b[39;00m \u001b[38;5;28mself\u001b[39m\u001b[38;5;241m.\u001b[39m_compiled_call_impl(\u001b[38;5;241m*\u001b[39margs, \u001b[38;5;241m*\u001b[39m\u001b[38;5;241m*\u001b[39mkwargs)  \u001b[38;5;66;03m# type: ignore[misc]\u001b[39;00m\n\u001b[1;32m   1735\u001b[0m \u001b[38;5;28;01melse\u001b[39;00m:\n\u001b[0;32m-> 1736\u001b[0m     \u001b[38;5;28;01mreturn\u001b[39;00m \u001b[38;5;28;43mself\u001b[39;49m\u001b[38;5;241;43m.\u001b[39;49m\u001b[43m_call_impl\u001b[49m\u001b[43m(\u001b[49m\u001b[38;5;241;43m*\u001b[39;49m\u001b[43margs\u001b[49m\u001b[43m,\u001b[49m\u001b[43m \u001b[49m\u001b[38;5;241;43m*\u001b[39;49m\u001b[38;5;241;43m*\u001b[39;49m\u001b[43mkwargs\u001b[49m\u001b[43m)\u001b[49m\n",
      "File \u001b[0;32m~/github/MM_Diffusion/.venv/lib/python3.12/site-packages/torch/nn/modules/module.py:1747\u001b[0m, in \u001b[0;36mModule._call_impl\u001b[0;34m(self, *args, **kwargs)\u001b[0m\n\u001b[1;32m   1742\u001b[0m \u001b[38;5;66;03m# If we don't have any hooks, we want to skip the rest of the logic in\u001b[39;00m\n\u001b[1;32m   1743\u001b[0m \u001b[38;5;66;03m# this function, and just call forward.\u001b[39;00m\n\u001b[1;32m   1744\u001b[0m \u001b[38;5;28;01mif\u001b[39;00m \u001b[38;5;129;01mnot\u001b[39;00m (\u001b[38;5;28mself\u001b[39m\u001b[38;5;241m.\u001b[39m_backward_hooks \u001b[38;5;129;01mor\u001b[39;00m \u001b[38;5;28mself\u001b[39m\u001b[38;5;241m.\u001b[39m_backward_pre_hooks \u001b[38;5;129;01mor\u001b[39;00m \u001b[38;5;28mself\u001b[39m\u001b[38;5;241m.\u001b[39m_forward_hooks \u001b[38;5;129;01mor\u001b[39;00m \u001b[38;5;28mself\u001b[39m\u001b[38;5;241m.\u001b[39m_forward_pre_hooks\n\u001b[1;32m   1745\u001b[0m         \u001b[38;5;129;01mor\u001b[39;00m _global_backward_pre_hooks \u001b[38;5;129;01mor\u001b[39;00m _global_backward_hooks\n\u001b[1;32m   1746\u001b[0m         \u001b[38;5;129;01mor\u001b[39;00m _global_forward_hooks \u001b[38;5;129;01mor\u001b[39;00m _global_forward_pre_hooks):\n\u001b[0;32m-> 1747\u001b[0m     \u001b[38;5;28;01mreturn\u001b[39;00m \u001b[43mforward_call\u001b[49m\u001b[43m(\u001b[49m\u001b[38;5;241;43m*\u001b[39;49m\u001b[43margs\u001b[49m\u001b[43m,\u001b[49m\u001b[43m \u001b[49m\u001b[38;5;241;43m*\u001b[39;49m\u001b[38;5;241;43m*\u001b[39;49m\u001b[43mkwargs\u001b[49m\u001b[43m)\u001b[49m\n\u001b[1;32m   1749\u001b[0m result \u001b[38;5;241m=\u001b[39m \u001b[38;5;28;01mNone\u001b[39;00m\n\u001b[1;32m   1750\u001b[0m called_always_called_hooks \u001b[38;5;241m=\u001b[39m \u001b[38;5;28mset\u001b[39m()\n",
      "File \u001b[0;32m~/github/MM_Diffusion/.venv/lib/python3.12/site-packages/torch/nn/modules/conv.py:554\u001b[0m, in \u001b[0;36mConv2d.forward\u001b[0;34m(self, input)\u001b[0m\n\u001b[1;32m    553\u001b[0m \u001b[38;5;28;01mdef\u001b[39;00m \u001b[38;5;21mforward\u001b[39m(\u001b[38;5;28mself\u001b[39m, \u001b[38;5;28minput\u001b[39m: Tensor) \u001b[38;5;241m-\u001b[39m\u001b[38;5;241m>\u001b[39m Tensor:\n\u001b[0;32m--> 554\u001b[0m     \u001b[38;5;28;01mreturn\u001b[39;00m \u001b[38;5;28;43mself\u001b[39;49m\u001b[38;5;241;43m.\u001b[39;49m\u001b[43m_conv_forward\u001b[49m\u001b[43m(\u001b[49m\u001b[38;5;28;43minput\u001b[39;49m\u001b[43m,\u001b[49m\u001b[43m \u001b[49m\u001b[38;5;28;43mself\u001b[39;49m\u001b[38;5;241;43m.\u001b[39;49m\u001b[43mweight\u001b[49m\u001b[43m,\u001b[49m\u001b[43m \u001b[49m\u001b[38;5;28;43mself\u001b[39;49m\u001b[38;5;241;43m.\u001b[39;49m\u001b[43mbias\u001b[49m\u001b[43m)\u001b[49m\n",
      "File \u001b[0;32m~/github/MM_Diffusion/.venv/lib/python3.12/site-packages/torch/nn/modules/conv.py:549\u001b[0m, in \u001b[0;36mConv2d._conv_forward\u001b[0;34m(self, input, weight, bias)\u001b[0m\n\u001b[1;32m    537\u001b[0m \u001b[38;5;28;01mif\u001b[39;00m \u001b[38;5;28mself\u001b[39m\u001b[38;5;241m.\u001b[39mpadding_mode \u001b[38;5;241m!=\u001b[39m \u001b[38;5;124m\"\u001b[39m\u001b[38;5;124mzeros\u001b[39m\u001b[38;5;124m\"\u001b[39m:\n\u001b[1;32m    538\u001b[0m     \u001b[38;5;28;01mreturn\u001b[39;00m F\u001b[38;5;241m.\u001b[39mconv2d(\n\u001b[1;32m    539\u001b[0m         F\u001b[38;5;241m.\u001b[39mpad(\n\u001b[1;32m    540\u001b[0m             \u001b[38;5;28minput\u001b[39m, \u001b[38;5;28mself\u001b[39m\u001b[38;5;241m.\u001b[39m_reversed_padding_repeated_twice, mode\u001b[38;5;241m=\u001b[39m\u001b[38;5;28mself\u001b[39m\u001b[38;5;241m.\u001b[39mpadding_mode\n\u001b[0;32m   (...)\u001b[0m\n\u001b[1;32m    547\u001b[0m         \u001b[38;5;28mself\u001b[39m\u001b[38;5;241m.\u001b[39mgroups,\n\u001b[1;32m    548\u001b[0m     )\n\u001b[0;32m--> 549\u001b[0m \u001b[38;5;28;01mreturn\u001b[39;00m \u001b[43mF\u001b[49m\u001b[38;5;241;43m.\u001b[39;49m\u001b[43mconv2d\u001b[49m\u001b[43m(\u001b[49m\n\u001b[1;32m    550\u001b[0m \u001b[43m    \u001b[49m\u001b[38;5;28;43minput\u001b[39;49m\u001b[43m,\u001b[49m\u001b[43m \u001b[49m\u001b[43mweight\u001b[49m\u001b[43m,\u001b[49m\u001b[43m \u001b[49m\u001b[43mbias\u001b[49m\u001b[43m,\u001b[49m\u001b[43m \u001b[49m\u001b[38;5;28;43mself\u001b[39;49m\u001b[38;5;241;43m.\u001b[39;49m\u001b[43mstride\u001b[49m\u001b[43m,\u001b[49m\u001b[43m \u001b[49m\u001b[38;5;28;43mself\u001b[39;49m\u001b[38;5;241;43m.\u001b[39;49m\u001b[43mpadding\u001b[49m\u001b[43m,\u001b[49m\u001b[43m \u001b[49m\u001b[38;5;28;43mself\u001b[39;49m\u001b[38;5;241;43m.\u001b[39;49m\u001b[43mdilation\u001b[49m\u001b[43m,\u001b[49m\u001b[43m \u001b[49m\u001b[38;5;28;43mself\u001b[39;49m\u001b[38;5;241;43m.\u001b[39;49m\u001b[43mgroups\u001b[49m\n\u001b[1;32m    551\u001b[0m \u001b[43m\u001b[49m\u001b[43m)\u001b[49m\n",
      "\u001b[0;31mKeyboardInterrupt\u001b[0m: "
     ]
    }
   ],
   "source": [
    "log_path = create_log_dir(epochs, beta, params.latent_dim, params.priorposterior, obj=obj, modality=params.modality)\n",
    "mean_losses, mean_neg_loglikelihood,  mean_divs = train(model, train_loader, optimizer, epochs, beta, log_path,\n",
    "          log_interval=1, K=K, objective=objective)\n",
    "        "
   ]
  },
  {
   "cell_type": "code",
   "execution_count": 60,
   "id": "f3721873-ea31-409c-b4f8-e39607ae014d",
   "metadata": {
    "tags": []
   },
   "outputs": [
    {
     "data": {
      "image/png": "[encoded data removed]",
      "text/plain": [
       "<Figure size 1200x500 with 3 Axes>"
      ]
     },
     "metadata": {},
     "output_type": "display_data"
    }
   ],
   "source": [
    "plot_training_curves(mean_losses, mean_neg_loglikelihood,  mean_divs)"
   ]
  }
 ],
 "metadata": {
  "kernelspec": {
   "display_name": ".venv",
   "language": "python",
   "name": "python3"
  },
  "language_info": {
   "codemirror_mode": {
    "name": "ipython",
    "version": 3
   },
   "file_extension": ".py",
   "mimetype": "text/x-python",
   "name": "python",
   "nbconvert_exporter": "python",
   "pygments_lexer": "ipython3",
   "version": "3.12.7"
  }
 },
 "nbformat": 4,
 "nbformat_minor": 5
}
