{
 "cells": [
  {
   "cell_type": "code",
   "execution_count": 1,
   "id": "476a867c-841a-494d-ba77-1ffae9bdb263",
   "metadata": {
    "tags": []
   },
   "outputs": [],
   "source": [
    "import json\n",
    "import numpy as np\n",
    "import torch\n",
    "from dataset_manipulation.dataloaders import DataLoaderFactory \n",
    "from models.mmdgm import MMDGM\n",
    "# Import the Polymnist (PM) encoder and decoder classes\n",
    "from models.encoder_decoder.polymnist import Enc as PM_enc, Dec as PM_dec\n",
    "# Import the encoders/decoders of the image and text modalities of the CUB Image Caption dataset\n",
    "from models.encoder_decoder.cnn_cub_image import Enc as img_enc, Dec as img_dec\n",
    "from models.encoder_decoder.cnn_cub_text import Enc as txt_enc, Dec as txt_dec"
   ]
  },
  {
   "cell_type": "code",
   "execution_count": 2,
   "id": "ffddff88-4b65-440b-813f-18b35cc6c34a",
   "metadata": {
    "tags": []
   },
   "outputs": [],
   "source": [
    "device = 'cpu' # 'cuda'"
   ]
  },
  {
   "cell_type": "markdown",
   "id": "a67a8af3-0604-4a82-906d-a5c936a3035b",
   "metadata": {
    "tags": []
   },
   "source": [
    "# Data handling"
   ]
  },
  {
   "cell_type": "code",
   "execution_count": 3,
   "id": "4f3e1853-46e4-47e9-a0d5-c8943c108d1e",
   "metadata": {
    "tags": []
   },
   "outputs": [],
   "source": [
    "# Define the data folder path\n",
    "data_path = '../data'"
   ]
  },
  {
   "cell_type": "markdown",
   "id": "9693de74-4022-4580-b849-613b8e69c074",
   "metadata": {
    "tags": []
   },
   "source": [
    "datasets_names:\n",
    "- polymnist_unimodal\n",
    "- polymnist_multimodal\n",
    "- cub_caption\n",
    "- cub_image\n",
    "- cub_joint"
   ]
  },
  {
   "cell_type": "code",
   "execution_count": 4,
   "id": "9e6b76e6-aa88-4caa-b7f7-183f690106f2",
   "metadata": {
    "tags": []
   },
   "outputs": [],
   "source": [
    "dlf = DataLoaderFactory(datadir=data_path, num_workers=1, pin_memory=True)"
   ]
  },
  {
   "cell_type": "code",
   "execution_count": 5,
   "id": "48f5f778-dceb-48b5-88a7-d373f3d7ad56",
   "metadata": {
    "tags": []
   },
   "outputs": [],
   "source": [
    "# Functions used to unpack the data from the different datasets dataloaders\n",
    "\n",
    "def unpack_data_PM(data, device=device):\n",
    "    data_nolabel = data[0]\n",
    "    n_idxs = len(data_nolabel)\n",
    "    return [data_nolabel[idx].to(device) for idx in range(n_idxs)], data[1].to(device)\n",
    "\n",
    "def unpack_data_cubIC(data, device=device):\n",
    "    return [data[0][0].to(device), data[1][0].to(device)]"
   ]
  },
  {
   "cell_type": "markdown",
   "id": "fa075115-b0e2-4c0e-9f2b-d64d6c90e1a8",
   "metadata": {},
   "source": [
    "# Parameters definition\n",
    "we'll use argparse in the main script"
   ]
  },
  {
   "cell_type": "code",
   "execution_count": 6,
   "id": "bd1a8505-d0a7-4c73-b4b9-83418858dacd",
   "metadata": {
    "tags": []
   },
   "outputs": [],
   "source": [
    "class Params:\n",
    "    def __init__(self, num_modalities, device = 'cpu'):\n",
    "        self.aggregation_method = 'concatenation'\n",
    "        self.latent_dim = 16\n",
    "        self.num_modalities = num_modalities\n",
    "        self.device = device\n",
    "        self.is_gaussian = True"
   ]
  },
  {
   "cell_type": "markdown",
   "id": "24614d57-cb4a-4881-956b-7fc47a2c295a",
   "metadata": {
    "jp-MarkdownHeadingCollapsed": true,
    "tags": []
   },
   "source": [
    "# Polymnist"
   ]
  },
  {
   "cell_type": "code",
   "execution_count": 7,
   "id": "a9535e54-d2e0-4450-a583-8582cf8d82d5",
   "metadata": {
    "tags": []
   },
   "outputs": [],
   "source": [
    "# Define the paramaeters\n",
    "num_modalities = 5\n",
    "latent_dim = 16\n",
    "batch_size = 8"
   ]
  },
  {
   "cell_type": "code",
   "execution_count": 8,
   "id": "14deeb2e-f6f5-4c19-a2a2-86ffbf447141",
   "metadata": {
    "tags": []
   },
   "outputs": [],
   "source": [
    "params = Params(num_modalities)"
   ]
  },
  {
   "cell_type": "markdown",
   "id": "250dfe81-dabd-49b4-b590-b13f5585d5da",
   "metadata": {},
   "source": [
    "## Model definition"
   ]
  },
  {
   "cell_type": "code",
   "execution_count": 9,
   "id": "beed2eb7-c6e0-4d78-a178-892fc2ab0300",
   "metadata": {
    "tags": []
   },
   "outputs": [],
   "source": [
    "# Lists of the different modalities encoders/decoders\n",
    "encoders = [PM_enc for _ in range(num_modalities)]\n",
    "decoders = [PM_dec for _ in range(num_modalities)]"
   ]
  },
  {
   "cell_type": "code",
   "execution_count": 10,
   "id": "88a6d268-af15-4fdd-acac-3d440da9d8e2",
   "metadata": {
    "tags": []
   },
   "outputs": [],
   "source": [
    "# Multimodal generative model\n",
    "mmdgm_PM = MMDGM(encoders, decoders, params) # is it optimal to store the pass the classes of the encoders and decoders?"
   ]
  },
  {
   "cell_type": "markdown",
   "id": "6afa82e7-f45d-43fc-b80a-54b216815f50",
   "metadata": {},
   "source": [
    "## Dataloader"
   ]
  },
  {
   "cell_type": "code",
   "execution_count": 11,
   "id": "211b369e-320f-44a3-87b8-4915fb9d1190",
   "metadata": {
    "tags": []
   },
   "outputs": [],
   "source": [
    "train, test = dlf.get_dataloader('polymnist_multimodal', batch_size)"
   ]
  },
  {
   "cell_type": "code",
   "execution_count": 12,
   "id": "2231a323-ac05-4e1d-8457-ef9af73862cf",
   "metadata": {
    "tags": []
   },
   "outputs": [
    {
     "name": "stderr",
     "output_type": "stream",
     "text": [
      "/home/quintana/github/MM_Diffusion/.venv/lib/python3.12/site-packages/torch/cuda/__init__.py:129: UserWarning: CUDA initialization: The NVIDIA driver on your system is too old (found version 11040). Please update your GPU driver by downloading and installing a new version from the URL: http://www.nvidia.com/Download/index.aspx Alternatively, go to: https://pytorch.org to install a PyTorch version that has been compiled with your version of the CUDA driver. (Triggered internally at ../c10/cuda/CUDAFunctions.cpp:108.)\n",
      "  return torch._C._cuda_getDeviceCount() > 0\n"
     ]
    }
   ],
   "source": [
    "data_iter = next(iter(train))"
   ]
  },
  {
   "cell_type": "code",
   "execution_count": 13,
   "id": "2a522a9e-5176-4bd6-9a91-765d938f8869",
   "metadata": {
    "tags": []
   },
   "outputs": [],
   "source": [
    "polymnist_modalities = unpack_data_PM(data_iter)"
   ]
  },
  {
   "cell_type": "code",
   "execution_count": 14,
   "id": "4c85380c-f35f-4e67-8a36-07f09e6e5719",
   "metadata": {
    "tags": []
   },
   "outputs": [],
   "source": [
    "pm_reconstructions = mmdgm_PM(polymnist_modalities[0])"
   ]
  },
  {
   "cell_type": "markdown",
   "id": "7bf9d574-a847-4317-8485-7d31c500e5f1",
   "metadata": {
    "tags": []
   },
   "source": [
    "# CUB Image Caption"
   ]
  },
  {
   "cell_type": "code",
   "execution_count": 15,
   "id": "cd2b33ef-2198-4746-9dd8-54898713573f",
   "metadata": {
    "tags": []
   },
   "outputs": [],
   "source": [
    "num_modalities = 2\n",
    "latent_dim = 16\n",
    "batch_size = 8"
   ]
  },
  {
   "cell_type": "code",
   "execution_count": 16,
   "id": "d1c9c07a-d2b3-444c-92c4-604114d182b7",
   "metadata": {
    "tags": []
   },
   "outputs": [],
   "source": [
    "params = Params(num_modalities)"
   ]
  },
  {
   "cell_type": "markdown",
   "id": "5aac5138-6031-4461-b296-a4b543457a03",
   "metadata": {},
   "source": [
    "## Model definition"
   ]
  },
  {
   "cell_type": "code",
   "execution_count": 17,
   "id": "5e56ccc7-fa54-4355-9a8f-4038238d130a",
   "metadata": {
    "tags": []
   },
   "outputs": [],
   "source": [
    "encoders = [img_enc, txt_enc]\n",
    "decoders = [img_dec, txt_dec]"
   ]
  },
  {
   "cell_type": "code",
   "execution_count": 18,
   "id": "ae8c14ae-cd68-4e32-9fb2-1db6c8ec7fb5",
   "metadata": {
    "tags": []
   },
   "outputs": [],
   "source": [
    "mmdgm_cub = MMDGM(encoders, decoders, params) # is it optimal to store the pass the classes of the encoders and decoders?"
   ]
  },
  {
   "cell_type": "markdown",
   "id": "9acc48f6-8fbb-489c-b65b-00ca7af6ebf6",
   "metadata": {},
   "source": [
    "## Datalaoder"
   ]
  },
  {
   "cell_type": "code",
   "execution_count": 19,
   "id": "c1029504-a8b2-4c5f-8047-57b54c4a6f65",
   "metadata": {
    "tags": []
   },
   "outputs": [],
   "source": [
    "train, test = dlf.get_dataloader('cub_joint', batch_size)"
   ]
  },
  {
   "cell_type": "code",
   "execution_count": 20,
   "id": "973583ae-6e91-4baf-8bde-2a479025c919",
   "metadata": {
    "tags": []
   },
   "outputs": [],
   "source": [
    "data_iter = next(iter(train))"
   ]
  },
  {
   "cell_type": "code",
   "execution_count": 21,
   "id": "ff4b767c-64a5-4def-891c-96d351d115bc",
   "metadata": {
    "tags": []
   },
   "outputs": [],
   "source": [
    "cub_modalities = unpack_data_cubIC(data_iter)"
   ]
  },
  {
   "cell_type": "code",
   "execution_count": 22,
   "id": "68d5e900-9172-4ee3-8116-45cfee954f9e",
   "metadata": {
    "tags": []
   },
   "outputs": [],
   "source": [
    "cub_reconstructions = mmdgm_cub(cub_modalities)"
   ]
  },
  {
   "cell_type": "code",
   "execution_count": null,
   "id": "b188bc9b",
   "metadata": {},
   "outputs": [],
   "source": []
  }
 ],
 "metadata": {
  "kernelspec": {
   "display_name": ".venv",
   "language": "python",
   "name": "python3"
  },
  "language_info": {
   "codemirror_mode": {
    "name": "ipython",
    "version": 3
   },
   "file_extension": ".py",
   "mimetype": "text/x-python",
   "name": "python",
   "nbconvert_exporter": "python",
   "pygments_lexer": "ipython3",
   "version": "3.12.7"
  }
 },
 "nbformat": 4,
 "nbformat_minor": 5
}
